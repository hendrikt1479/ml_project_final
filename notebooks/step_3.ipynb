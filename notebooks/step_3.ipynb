{
 "cells": [
  {
   "cell_type": "markdown",
   "metadata": {},
   "source": [
    "#### Import Library"
   ]
  },
  {
   "cell_type": "code",
   "execution_count": 4,
   "metadata": {},
   "outputs": [],
   "source": [
    "import yaml\n",
    "import joblib\n",
    "\n",
    "from sklearn.tree import DecisionTreeClassifier\n",
    "from sklearn.metrics import classification_report\n"
   ]
  },
  {
   "cell_type": "markdown",
   "metadata": {},
   "source": [
    "#### Load Config"
   ]
  },
  {
   "cell_type": "code",
   "execution_count": 2,
   "metadata": {},
   "outputs": [
    {
     "data": {
      "text/plain": [
       "{'data_raw': '../data/raw/smoke.csv',\n",
       " 'data_final': '../data/processed/ori_new.pkl',\n",
       " 'path_train': ['../data/processed/x_train.pkl',\n",
       "  '../data/processed/y_train.pkl'],\n",
       " 'path_valid': ['../data/processed/x_valid.pkl',\n",
       "  '../data/processed/y_valid.pkl'],\n",
       " 'path_test': ['../data/processed/x_test.pkl', '../data/processed/y_test.pkl'],\n",
       " 'path_train_feat': ['../data/processed/x_train_feat.pkl',\n",
       "  '../data/processed/y_train_feat.pkl'],\n",
       " 'path_valid_feat': ['../data/processed/x_valid_feat.pkl',\n",
       "  '../data/processed/y_valid_feat.pkl'],\n",
       " 'path_test_feat': ['../data/processed/x_test_feat.pkl',\n",
       "  '../data/processed/y_test_feat.pkl'],\n",
       " 'final_model_path': 'models/production_model.pkl',\n",
       " 'training_log_path': 'log/training_log.json',\n",
       " 'new_cols': ['UTC',\n",
       "  'Temperature',\n",
       "  'Humidity',\n",
       "  'TVOC',\n",
       "  'eCO2',\n",
       "  'Raw_H2',\n",
       "  'Raw_Ethanol',\n",
       "  'Pressure',\n",
       "  'PM1.0',\n",
       "  'PM2.5',\n",
       "  'NC0.5',\n",
       "  'NC1.0',\n",
       "  'NC2.5',\n",
       "  'CNT',\n",
       "  'Fire_Alarm'],\n",
       " 'datetime_columns': ['UTC'],\n",
       " 'float_columns': ['Temperature',\n",
       "  'Humidity',\n",
       "  'Pressure',\n",
       "  'PM1.0',\n",
       "  'PM2.5',\n",
       "  'NC0.5',\n",
       "  'NC1.0',\n",
       "  'NC2.5'],\n",
       " 'int_columns': ['TVOC', 'eCO2', 'Raw_H2', 'Raw_Ethanol', 'CNT', 'Fire_Alarm'],\n",
       " 'target': 'Fire_Alarm',\n",
       " 'predictors': ['Temperature',\n",
       "  'Humidity',\n",
       "  'TVOC',\n",
       "  'eCO2',\n",
       "  'Raw_H2',\n",
       "  'Raw_Ethanol',\n",
       "  'Pressure',\n",
       "  'PM1.0'],\n",
       " 'test_size': 0.3,\n",
       " 'valid_size': 0.5}"
      ]
     },
     "execution_count": 2,
     "metadata": {},
     "output_type": "execute_result"
    }
   ],
   "source": [
    "with open('../config/config.yaml', 'r') as file:\n",
    "    config = yaml.safe_load(file)\n",
    "config"
   ]
  },
  {
   "cell_type": "markdown",
   "metadata": {},
   "source": [
    "#### Load Data"
   ]
  },
  {
   "cell_type": "code",
   "execution_count": 3,
   "metadata": {},
   "outputs": [],
   "source": [
    "x_train = joblib.load(config['path_train_feat'][0])\n",
    "y_train = joblib.load(config['path_train_feat'][1])\n",
    "x_test = joblib.load(config['path_test_feat'][0])\n",
    "y_test = joblib.load(config['path_test_feat'][1])\n",
    "x_valid = joblib.load(config['path_valid_feat'][0])\n",
    "y_valid = joblib.load(config['path_valid_feat'][1])"
   ]
  },
  {
   "cell_type": "markdown",
   "metadata": {},
   "source": [
    "#### Train Model"
   ]
  },
  {
   "cell_type": "code",
   "execution_count": 5,
   "metadata": {},
   "outputs": [
    {
     "name": "stdout",
     "output_type": "stream",
     "text": [
      "              precision    recall  f1-score   support\n",
      "\n",
      "           0       0.94      0.91      0.92      2681\n",
      "           1       0.97      0.98      0.97      6713\n",
      "\n",
      "    accuracy                           0.96      9394\n",
      "   macro avg       0.95      0.94      0.95      9394\n",
      "weighted avg       0.96      0.96      0.96      9394\n",
      "\n"
     ]
    }
   ],
   "source": [
    "dtc = DecisionTreeClassifier()\n",
    "dtc.fit(x_train, y_train)\n",
    "\n",
    "y_pred = dtc.predict(x_valid)\n",
    "print(classification_report(y_valid, y_pred))"
   ]
  },
  {
   "cell_type": "code",
   "execution_count": 8,
   "metadata": {},
   "outputs": [
    {
     "ename": "FileNotFoundError",
     "evalue": "[Errno 2] No such file or directory: 'models/production_model.pkl'",
     "output_type": "error",
     "traceback": [
      "\u001b[0;31m---------------------------------------------------------------------------\u001b[0m",
      "\u001b[0;31mFileNotFoundError\u001b[0m                         Traceback (most recent call last)",
      "Cell \u001b[0;32mIn [8], line 1\u001b[0m\n\u001b[0;32m----> 1\u001b[0m joblib\u001b[39m.\u001b[39;49mdump(dtc, config[\u001b[39m'\u001b[39;49m\u001b[39mfinal_model_path\u001b[39;49m\u001b[39m'\u001b[39;49m])\n",
      "File \u001b[0;32m~/ml_project_final/venv_mlproject/lib/python3.8/site-packages/joblib/numpy_pickle.py:552\u001b[0m, in \u001b[0;36mdump\u001b[0;34m(value, filename, compress, protocol, cache_size)\u001b[0m\n\u001b[1;32m    550\u001b[0m         NumpyPickler(f, protocol\u001b[39m=\u001b[39mprotocol)\u001b[39m.\u001b[39mdump(value)\n\u001b[1;32m    551\u001b[0m \u001b[39melif\u001b[39;00m is_filename:\n\u001b[0;32m--> 552\u001b[0m     \u001b[39mwith\u001b[39;00m \u001b[39mopen\u001b[39;49m(filename, \u001b[39m'\u001b[39;49m\u001b[39mwb\u001b[39;49m\u001b[39m'\u001b[39;49m) \u001b[39mas\u001b[39;00m f:\n\u001b[1;32m    553\u001b[0m         NumpyPickler(f, protocol\u001b[39m=\u001b[39mprotocol)\u001b[39m.\u001b[39mdump(value)\n\u001b[1;32m    554\u001b[0m \u001b[39melse\u001b[39;00m:\n",
      "\u001b[0;31mFileNotFoundError\u001b[0m: [Errno 2] No such file or directory: 'models/production_model.pkl'"
     ]
    }
   ],
   "source": [
    "joblib.dump(dtc, config['final_model_path'])"
   ]
  },
  {
   "cell_type": "code",
   "execution_count": null,
   "metadata": {},
   "outputs": [],
   "source": []
  }
 ],
 "metadata": {
  "kernelspec": {
   "display_name": "Python 3.8.10 ('venv_mlproject': venv)",
   "language": "python",
   "name": "python3"
  },
  "language_info": {
   "codemirror_mode": {
    "name": "ipython",
    "version": 3
   },
   "file_extension": ".py",
   "mimetype": "text/x-python",
   "name": "python",
   "nbconvert_exporter": "python",
   "pygments_lexer": "ipython3",
   "version": "3.8.10"
  },
  "orig_nbformat": 4,
  "vscode": {
   "interpreter": {
    "hash": "6df2f55f3efb84c3ea0b0b0980bf4105a27fcb756340ab0235795f7ee117f064"
   }
  }
 },
 "nbformat": 4,
 "nbformat_minor": 2
}
