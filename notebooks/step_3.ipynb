{
 "cells": [
  {
   "cell_type": "markdown",
   "metadata": {},
   "source": [
    "#### Import Library"
   ]
  },
  {
   "cell_type": "code",
   "execution_count": 24,
   "metadata": {},
   "outputs": [],
   "source": [
    "import yaml\n",
    "import joblib\n",
    "\n",
    "from sklearn.tree import DecisionTreeClassifier\n",
    "from sklearn.metrics import classification_report\n"
   ]
  },
  {
   "cell_type": "markdown",
   "metadata": {},
   "source": [
    "#### Load Config"
   ]
  },
  {
   "cell_type": "code",
   "execution_count": 25,
   "metadata": {},
   "outputs": [
    {
     "data": {
      "text/plain": [
       "{'data_raw': 'data/raw/smoke.csv',\n",
       " 'data_final': 'data/processed/ori_new.pkl',\n",
       " 'path_train': ['data/processed/x_train.pkl', 'data/processed/y_train.pkl'],\n",
       " 'path_valid': ['data/processed/x_valid.pkl', 'data/processed/y_valid.pkl'],\n",
       " 'path_test': ['data/processed/x_test.pkl', 'data/processed/y_test.pkl'],\n",
       " 'path_train_feat': ['data/processed/x_train_feat.pkl',\n",
       "  'data/processed/y_train_feat.pkl'],\n",
       " 'path_valid_feat': ['data/processed/x_valid_feat.pkl',\n",
       "  'data/processed/y_valid_feat.pkl'],\n",
       " 'path_test_feat': ['data/processed/x_test_feat.pkl',\n",
       "  'data/processed/y_test_feat.pkl'],\n",
       " 'final_model_path': 'models/production_model.pkl',\n",
       " 'training_log_path': 'log/training_log.json',\n",
       " 'new_cols': ['utc',\n",
       "  'temperature',\n",
       "  'humidity',\n",
       "  'tvoc',\n",
       "  'eco2',\n",
       "  'raw_h2',\n",
       "  'raw_ethanol',\n",
       "  'pressure',\n",
       "  'pm10',\n",
       "  'pm25',\n",
       "  'nc05',\n",
       "  'nc10',\n",
       "  'nc25',\n",
       "  'cnt',\n",
       "  'fire_alarm'],\n",
       " 'datetime_columns': ['utc'],\n",
       " 'float_columns': ['temperature',\n",
       "  'humidity',\n",
       "  'pressure',\n",
       "  'pm10',\n",
       "  'pm25',\n",
       "  'nc05',\n",
       "  'nc10',\n",
       "  'nc25'],\n",
       " 'int_columns': ['tvoc', 'eco2', 'raw_h2', 'raw_ethanol', 'cnt', 'fire_alarm'],\n",
       " 'target': 'fire_alarm',\n",
       " 'predictors': ['temperature',\n",
       "  'humidity',\n",
       "  'tvoc',\n",
       "  'eco2',\n",
       "  'raw_h2',\n",
       "  'raw_ethanol',\n",
       "  'pressure',\n",
       "  'pm10'],\n",
       " 'test_size': 0.3,\n",
       " 'valid_size': 0.5}"
      ]
     },
     "execution_count": 25,
     "metadata": {},
     "output_type": "execute_result"
    }
   ],
   "source": [
    "with open(\"../config/config.yaml\", \"r\") as file:\n",
    "    config = yaml.safe_load(file)\n",
    "config"
   ]
  },
  {
   "cell_type": "markdown",
   "metadata": {},
   "source": [
    "#### Load Data"
   ]
  },
  {
   "cell_type": "code",
   "execution_count": 26,
   "metadata": {},
   "outputs": [],
   "source": [
    "x_train = joblib.load(\"../data/processed/x_train_feat.pkl\")\n",
    "y_train = joblib.load(\"../data/processed/y_train_feat.pkl\")\n",
    "x_test = joblib.load(\"../data/processed/x_test_feat.pkl\")\n",
    "y_test = joblib.load(\"../data/processed/y_test_feat.pkl\")\n",
    "x_valid = joblib.load(\"../data/processed/x_valid_feat.pkl\")\n",
    "y_valid = joblib.load(\"../data/processed/y_valid_feat.pkl\")"
   ]
  },
  {
   "cell_type": "markdown",
   "metadata": {},
   "source": [
    "#### Train Model"
   ]
  },
  {
   "cell_type": "code",
   "execution_count": 27,
   "metadata": {},
   "outputs": [
    {
     "name": "stdout",
     "output_type": "stream",
     "text": [
      "              precision    recall  f1-score   support\n",
      "\n",
      "           0       0.94      0.91      0.92      2681\n",
      "           1       0.96      0.98      0.97      6713\n",
      "\n",
      "    accuracy                           0.96      9394\n",
      "   macro avg       0.95      0.94      0.95      9394\n",
      "weighted avg       0.96      0.96      0.96      9394\n",
      "\n"
     ]
    }
   ],
   "source": [
    "dtc = DecisionTreeClassifier()\n",
    "dtc.fit(x_train, y_train)\n",
    "\n",
    "y_pred = dtc.predict(x_valid)\n",
    "print(classification_report(y_valid, y_pred))"
   ]
  },
  {
   "cell_type": "code",
   "execution_count": 28,
   "metadata": {},
   "outputs": [
    {
     "data": {
      "text/plain": [
       "['../models/production_model.pkl']"
      ]
     },
     "execution_count": 28,
     "metadata": {},
     "output_type": "execute_result"
    }
   ],
   "source": [
    "joblib.dump(dtc, \"../models/production_model.pkl\")"
   ]
  },
  {
   "cell_type": "code",
   "execution_count": 45,
   "metadata": {},
   "outputs": [
    {
     "data": {
      "text/html": [
       "<div>\n",
       "<style scoped>\n",
       "    .dataframe tbody tr th:only-of-type {\n",
       "        vertical-align: middle;\n",
       "    }\n",
       "\n",
       "    .dataframe tbody tr th {\n",
       "        vertical-align: top;\n",
       "    }\n",
       "\n",
       "    .dataframe thead th {\n",
       "        text-align: right;\n",
       "    }\n",
       "</style>\n",
       "<table border=\"1\" class=\"dataframe\">\n",
       "  <thead>\n",
       "    <tr style=\"text-align: right;\">\n",
       "      <th></th>\n",
       "      <th>temperature</th>\n",
       "      <th>humidity</th>\n",
       "      <th>tvoc</th>\n",
       "      <th>eco2</th>\n",
       "      <th>raw_h2</th>\n",
       "      <th>raw_ethanol</th>\n",
       "      <th>pressure</th>\n",
       "      <th>pm10</th>\n",
       "    </tr>\n",
       "  </thead>\n",
       "  <tbody>\n",
       "    <tr>\n",
       "      <th>0</th>\n",
       "      <td>0.1</td>\n",
       "      <td>0.2</td>\n",
       "      <td>3</td>\n",
       "      <td>4</td>\n",
       "      <td>5</td>\n",
       "      <td>6</td>\n",
       "      <td>0.7</td>\n",
       "      <td>0.8</td>\n",
       "    </tr>\n",
       "  </tbody>\n",
       "</table>\n",
       "</div>"
      ],
      "text/plain": [
       "   temperature  humidity  tvoc  eco2  raw_h2  raw_ethanol  pressure  pm10\n",
       "0          0.1       0.2     3     4       5            6       0.7   0.8"
      ]
     },
     "execution_count": 45,
     "metadata": {},
     "output_type": "execute_result"
    }
   ],
   "source": [
    "import pandas as pd\n",
    "import numpy as np\n",
    "\n",
    "\n",
    "cols = [{'temperature' : 0.1, 'humidity' : 0.2, 'tvoc' : 3, 'eco2' : 4, 'raw_h2' : 5, 'raw_ethanol' : 6, 'pressure' : 0.7, 'pm10' : 0.8}]\n",
    "z = pd.DataFrame(cols)\n",
    "z"
   ]
  },
  {
   "cell_type": "code",
   "execution_count": 46,
   "metadata": {},
   "outputs": [],
   "source": [
    "model_data = joblib.load(\"../models/production_model.pkl\")"
   ]
  },
  {
   "cell_type": "code",
   "execution_count": 48,
   "metadata": {},
   "outputs": [],
   "source": [
    "y_pred = model_data.predict(z)"
   ]
  },
  {
   "cell_type": "code",
   "execution_count": 51,
   "metadata": {},
   "outputs": [
    {
     "data": {
      "text/plain": [
       "array([1])"
      ]
     },
     "execution_count": 51,
     "metadata": {},
     "output_type": "execute_result"
    }
   ],
   "source": [
    "y_pred"
   ]
  },
  {
   "cell_type": "code",
   "execution_count": 52,
   "metadata": {},
   "outputs": [
    {
     "data": {
      "text/plain": [
       "'[1]'"
      ]
     },
     "execution_count": 52,
     "metadata": {},
     "output_type": "execute_result"
    }
   ],
   "source": [
    "str(y_pred)"
   ]
  },
  {
   "cell_type": "code",
   "execution_count": null,
   "metadata": {},
   "outputs": [],
   "source": []
  }
 ],
 "metadata": {
  "kernelspec": {
   "display_name": "Python 3.8.10 ('venv_mlproject': venv)",
   "language": "python",
   "name": "python3"
  },
  "language_info": {
   "codemirror_mode": {
    "name": "ipython",
    "version": 3
   },
   "file_extension": ".py",
   "mimetype": "text/x-python",
   "name": "python",
   "nbconvert_exporter": "python",
   "pygments_lexer": "ipython3",
   "version": "3.8.10"
  },
  "orig_nbformat": 4,
  "vscode": {
   "interpreter": {
    "hash": "6df2f55f3efb84c3ea0b0b0980bf4105a27fcb756340ab0235795f7ee117f064"
   }
  }
 },
 "nbformat": 4,
 "nbformat_minor": 2
}
