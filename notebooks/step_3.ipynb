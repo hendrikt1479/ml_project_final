{
 "cells": [
  {
   "cell_type": "markdown",
   "metadata": {},
   "source": [
    "#### Import Library"
   ]
  },
  {
   "cell_type": "code",
   "execution_count": 14,
   "metadata": {},
   "outputs": [],
   "source": [
    "import yaml\n",
    "import joblib\n",
    "\n",
    "from sklearn.tree import DecisionTreeClassifier\n",
    "from sklearn.metrics import classification_report\n"
   ]
  },
  {
   "cell_type": "markdown",
   "metadata": {},
   "source": [
    "#### Load Config"
   ]
  },
  {
   "cell_type": "code",
   "execution_count": 15,
   "metadata": {},
   "outputs": [
    {
     "data": {
      "text/plain": [
       "{'data_raw': 'data/raw/smoke.csv',\n",
       " 'data_final': 'data/processed/ori_new.pkl',\n",
       " 'path_train': ['data/processed/x_train.pkl', 'data/processed/y_train.pkl'],\n",
       " 'path_valid': ['data/processed/x_valid.pkl', 'data/processed/y_valid.pkl'],\n",
       " 'path_test': ['data/processed/x_test.pkl', 'data/processed/y_test.pkl'],\n",
       " 'path_train_feat': ['data/processed/x_train_feat.pkl',\n",
       "  'data/processed/y_train_feat.pkl'],\n",
       " 'path_valid_feat': ['data/processed/x_valid_feat.pkl',\n",
       "  'data/processed/y_valid_feat.pkl'],\n",
       " 'path_test_feat': ['data/processed/x_test_feat.pkl',\n",
       "  'data/processed/y_test_feat.pkl'],\n",
       " 'final_model_path': 'models/production_model.pkl',\n",
       " 'training_log_path': 'log/training_log.json',\n",
       " 'new_cols': ['UTC',\n",
       "  'Temperature',\n",
       "  'Humidity',\n",
       "  'TVOC',\n",
       "  'eCO2',\n",
       "  'Raw_H2',\n",
       "  'Raw_Ethanol',\n",
       "  'Pressure',\n",
       "  'PM1.0',\n",
       "  'PM2.5',\n",
       "  'NC0.5',\n",
       "  'NC1.0',\n",
       "  'NC2.5',\n",
       "  'CNT',\n",
       "  'Fire_Alarm'],\n",
       " 'datetime_columns': ['UTC'],\n",
       " 'float_columns': ['Temperature',\n",
       "  'Humidity',\n",
       "  'Pressure',\n",
       "  'PM1.0',\n",
       "  'PM2.5',\n",
       "  'NC0.5',\n",
       "  'NC1.0',\n",
       "  'NC2.5'],\n",
       " 'int_columns': ['TVOC', 'eCO2', 'Raw_H2', 'Raw_Ethanol', 'CNT', 'Fire_Alarm'],\n",
       " 'target': 'Fire_Alarm',\n",
       " 'predictors': ['Temperature',\n",
       "  'Humidity',\n",
       "  'TVOC',\n",
       "  'eCO2',\n",
       "  'Raw_H2',\n",
       "  'Raw_Ethanol',\n",
       "  'Pressure',\n",
       "  'PM1.0'],\n",
       " 'test_size': 0.3,\n",
       " 'valid_size': 0.5}"
      ]
     },
     "execution_count": 15,
     "metadata": {},
     "output_type": "execute_result"
    }
   ],
   "source": [
    "with open(\"../config/config.yaml\", \"r\") as file:\n",
    "    config = yaml.safe_load(file)\n",
    "config"
   ]
  },
  {
   "cell_type": "markdown",
   "metadata": {},
   "source": [
    "#### Load Data"
   ]
  },
  {
   "cell_type": "code",
   "execution_count": 16,
   "metadata": {},
   "outputs": [],
   "source": [
    "x_train = joblib.load(\"../data/processed/x_train_feat.pkl\")\n",
    "y_train = joblib.load(\"../data/processed/y_train_feat.pkl\")\n",
    "x_test = joblib.load(\"../data/processed/x_test_feat.pkl\")\n",
    "y_test = joblib.load(\"../data/processed/y_test_feat.pkl\")\n",
    "x_valid = joblib.load(\"../data/processed/x_valid_feat.pkl\")\n",
    "y_valid = joblib.load(\"../data/processed/y_valid_feat.pkl\")"
   ]
  },
  {
   "cell_type": "markdown",
   "metadata": {},
   "source": [
    "#### Train Model"
   ]
  },
  {
   "cell_type": "code",
   "execution_count": 17,
   "metadata": {},
   "outputs": [
    {
     "name": "stdout",
     "output_type": "stream",
     "text": [
      "              precision    recall  f1-score   support\n",
      "\n",
      "           0       0.94      0.93      0.94      2681\n",
      "           1       0.97      0.98      0.97      6713\n",
      "\n",
      "    accuracy                           0.96      9394\n",
      "   macro avg       0.96      0.95      0.96      9394\n",
      "weighted avg       0.96      0.96      0.96      9394\n",
      "\n"
     ]
    }
   ],
   "source": [
    "dtc = DecisionTreeClassifier()\n",
    "dtc.fit(x_train, y_train)\n",
    "\n",
    "y_pred = dtc.predict(x_valid)\n",
    "print(classification_report(y_valid, y_pred))"
   ]
  },
  {
   "cell_type": "code",
   "execution_count": 18,
   "metadata": {},
   "outputs": [
    {
     "data": {
      "text/plain": [
       "['../models/production_model.pkl']"
      ]
     },
     "execution_count": 18,
     "metadata": {},
     "output_type": "execute_result"
    }
   ],
   "source": [
    "joblib.dump(dtc, \"../models/production_model.pkl\")"
   ]
  },
  {
   "cell_type": "code",
   "execution_count": null,
   "metadata": {},
   "outputs": [],
   "source": []
  }
 ],
 "metadata": {
  "kernelspec": {
   "display_name": "Python 3.8.10 ('venv_mlproject': venv)",
   "language": "python",
   "name": "python3"
  },
  "language_info": {
   "codemirror_mode": {
    "name": "ipython",
    "version": 3
   },
   "file_extension": ".py",
   "mimetype": "text/x-python",
   "name": "python",
   "nbconvert_exporter": "python",
   "pygments_lexer": "ipython3",
   "version": "3.8.10"
  },
  "orig_nbformat": 4,
  "vscode": {
   "interpreter": {
    "hash": "6df2f55f3efb84c3ea0b0b0980bf4105a27fcb756340ab0235795f7ee117f064"
   }
  }
 },
 "nbformat": 4,
 "nbformat_minor": 2
}
