{
 "cells": [
  {
   "cell_type": "code",
   "execution_count": 122,
   "metadata": {},
   "outputs": [],
   "source": [
    "import pandas as pd\n",
    "import joblib\n",
    "import copy\n",
    "import hashlib\n",
    "import json\n",
    "from datetime import datetime\n",
    "from tqdm import tqdm\n",
    "\n",
    "from sklearn.linear_model import LogisticRegression\n",
    "from sklearn.tree import DecisionTreeClassifier\n",
    "from sklearn.ensemble import RandomForestClassifier\n",
    "from sklearn.neighbors import KNeighborsClassifier\n",
    "from xgboost import XGBClassifier\n",
    "\n",
    "from sklearn.metrics import classification_report, ConfusionMatrixDisplay, roc_curve, roc_auc_score\n",
    "from sklearn.model_selection import RandomizedSearchCV, GridSearchCV\n",
    "from sklearn import tree"
   ]
  },
  {
   "cell_type": "markdown",
   "metadata": {},
   "source": [
    "#### Log"
   ]
  },
  {
   "cell_type": "code",
   "execution_count": 38,
   "metadata": {},
   "outputs": [],
   "source": [
    "def time_stamp():\n",
    "    return datetime.now()"
   ]
  },
  {
   "cell_type": "code",
   "execution_count": 39,
   "metadata": {},
   "outputs": [],
   "source": [
    "def create_log_template():\n",
    "    logger = {\n",
    "        'model_name' : [],\n",
    "        'model_uid' : [],\n",
    "        'training_time' : [],\n",
    "        'training_date' : [],\n",
    "        'performance' : [],\n",
    "        'f1_score_avg' : [],\n",
    "        'data_configurations' : [],\n",
    "    }\n",
    "\n",
    "    return logger"
   ]
  },
  {
   "cell_type": "code",
   "execution_count": 40,
   "metadata": {},
   "outputs": [],
   "source": [
    "def training_log_updater(current_log, log_path):\n",
    "    current_log = current_log.copy()\n",
    "\n",
    "    try:\n",
    "        with open(log_path, 'r') as file:\n",
    "            last_log = json.load(file)\n",
    "        file.close()\n",
    "    except FileNotFoundError as ffe:\n",
    "        with open(log_path, 'w') as file:\n",
    "            file.write('[]')\n",
    "        file.close()\n",
    "        with open(log_path, 'r') as file:\n",
    "            last_log = json.load(file)\n",
    "        file.close()\n",
    "    \n",
    "    last_log.append(current_log)\n",
    "\n",
    "    with open(log_path, 'w') as file:\n",
    "        json.dump(last_log, file)\n",
    "        file.close()\n",
    "\n",
    "    return last_log"
   ]
  },
  {
   "cell_type": "markdown",
   "metadata": {},
   "source": [
    "#### Training"
   ]
  },
  {
   "cell_type": "code",
   "execution_count": 41,
   "metadata": {},
   "outputs": [],
   "source": [
    "lgr_baseline = LogisticRegression()\n",
    "dct_baseline = DecisionTreeClassifier()\n",
    "rfc_baseline = RandomForestClassifier()\n",
    "knn_baseline = KNeighborsClassifier()\n",
    "xgb_baseline = XGBClassifier()"
   ]
  },
  {
   "cell_type": "code",
   "execution_count": 82,
   "metadata": {},
   "outputs": [],
   "source": [
    "list_of_model = {\n",
    "        'smote' : [\n",
    "        { 'model_name': lgr_baseline.__class__.__name__, 'model_object': lgr_baseline, 'model_uid': ''},\n",
    "        { 'model_name': dct_baseline.__class__.__name__, 'model_object': dct_baseline, 'model_uid': ''},\n",
    "        { 'model_name': rfc_baseline.__class__.__name__, 'model_object': rfc_baseline, 'model_uid': ''},\n",
    "        { 'model_name': knn_baseline.__class__.__name__, 'model_object': knn_baseline, 'model_uid': ''},\n",
    "        { 'model_name': xgb_baseline.__class__.__name__, 'model_object': xgb_baseline, 'model_uid': ''}\n",
    "        ],\n",
    "    }"
   ]
  },
  {
   "cell_type": "code",
   "execution_count": 43,
   "metadata": {},
   "outputs": [],
   "source": [
    "def train_eval_model(list_of_model, prefix_model_name, x_train, y_train, data_configuration_name, x_valid, y_valid, log_path):\n",
    "\n",
    "    list_of_model = copy.deepcopy(list_of_model)\n",
    "    logger = create_log_template()\n",
    "\n",
    "    for model in tqdm(list_of_model):    \n",
    "        model_name = prefix_model_name + '-' + model['model_name']\n",
    "\n",
    "        start_time = time_stamp()\n",
    "        model['model_object'].fit(x_train, y_train)\n",
    "        finished_time = time_stamp()\n",
    "\n",
    "        elapsed_time = finished_time - start_time\n",
    "        elapsed_time = elapsed_time.total_seconds()\n",
    "\n",
    "        y_pred = model['model_object'].predict(x_valid)\n",
    "        performance = classification_report(y_valid, y_pred, output_dict = True)\n",
    "\n",
    "        plain_id = str(start_time) + str(finished_time)\n",
    "        chiper_id = hashlib.md5(plain_id.encode()).hexdigest()\n",
    "\n",
    "        model['model_uid'] = chiper_id\n",
    "\n",
    "        logger['model_name'].append(model_name)\n",
    "        logger['model_uid'].append(chiper_id)\n",
    "        logger['training_time'].append(elapsed_time)\n",
    "        logger['training_date'].append(str(start_time))\n",
    "        logger['performance'].append(performance)\n",
    "        logger['f1_score_avg'].append(performance['macro avg']['f1-score'])\n",
    "        logger['data_configurations'].append(data_configuration_name)\n",
    "\n",
    "    training_log = training_log_updater(logger, log_path)\n",
    "\n",
    "    return training_log, list_of_model"
   ]
  },
  {
   "cell_type": "code",
   "execution_count": 136,
   "metadata": {},
   "outputs": [],
   "source": [
    "x_train = joblib.load('../data/processed/x_train.pkl')\n",
    "y_train = joblib.load('../data/processed/y_train.pkl')\n",
    "\n",
    "x_test = joblib.load('../data/processed/x_test.pkl')\n",
    "y_test = joblib.load('../data/processed/y_test.pkl')\n",
    "\n",
    "x_valid = joblib.load('../data/processed/x_valid.pkl')\n",
    "y_valid = joblib.load('../data/processed/y_valid.pkl')"
   ]
  },
  {
   "cell_type": "code",
   "execution_count": 126,
   "metadata": {},
   "outputs": [
    {
     "name": "stderr",
     "output_type": "stream",
     "text": [
      "  0%|          | 0/5 [00:00<?, ?it/s]/home/tanaka/ml_project_final/venv_mlproject/lib/python3.8/site-packages/sklearn/linear_model/_logistic.py:444: ConvergenceWarning: lbfgs failed to converge (status=1):\n",
      "STOP: TOTAL NO. of ITERATIONS REACHED LIMIT.\n",
      "\n",
      "Increase the number of iterations (max_iter) or scale the data as shown in:\n",
      "    https://scikit-learn.org/stable/modules/preprocessing.html\n",
      "Please also refer to the documentation for alternative solver options:\n",
      "    https://scikit-learn.org/stable/modules/linear_model.html#logistic-regression\n",
      "  n_iter_i = _check_optimize_result(\n",
      "100%|██████████| 5/5 [00:03<00:00,  1.52it/s]\n"
     ]
    }
   ],
   "source": [
    "training_log, list_of_model_res = train_eval_model(\n",
    "    list_of_model['smote'],\n",
    "    'baseline_model',\n",
    "    x_train,\n",
    "    y_train,\n",
    "    'smote',\n",
    "    x_valid,\n",
    "    y_valid,\n",
    "    '../log/training_log.json'\n",
    ")"
   ]
  },
  {
   "cell_type": "code",
   "execution_count": 127,
   "metadata": {},
   "outputs": [],
   "source": [
    "def training_log_to_df(training_log):\n",
    "    training_res = pd.DataFrame()\n",
    "\n",
    "    for log in tqdm(training_log):\n",
    "        training_res = pd.concat([training_res, pd.DataFrame(log)])\n",
    "    \n",
    "    training_res.sort_values(['f1_score_avg', 'training_time'], ascending = [False, True], inplace = True)\n",
    "    training_res.reset_index(inplace = True, drop = True)\n",
    "    \n",
    "    return training_res"
   ]
  },
  {
   "cell_type": "code",
   "execution_count": 128,
   "metadata": {},
   "outputs": [
    {
     "name": "stderr",
     "output_type": "stream",
     "text": [
      "100%|██████████| 2/2 [00:00<00:00, 794.07it/s]\n"
     ]
    },
    {
     "data": {
      "text/html": [
       "<div>\n",
       "<style scoped>\n",
       "    .dataframe tbody tr th:only-of-type {\n",
       "        vertical-align: middle;\n",
       "    }\n",
       "\n",
       "    .dataframe tbody tr th {\n",
       "        vertical-align: top;\n",
       "    }\n",
       "\n",
       "    .dataframe thead th {\n",
       "        text-align: right;\n",
       "    }\n",
       "</style>\n",
       "<table border=\"1\" class=\"dataframe\">\n",
       "  <thead>\n",
       "    <tr style=\"text-align: right;\">\n",
       "      <th></th>\n",
       "      <th>model_name</th>\n",
       "      <th>model_uid</th>\n",
       "      <th>training_time</th>\n",
       "      <th>training_date</th>\n",
       "      <th>performance</th>\n",
       "      <th>f1_score_avg</th>\n",
       "      <th>data_configurations</th>\n",
       "    </tr>\n",
       "  </thead>\n",
       "  <tbody>\n",
       "    <tr>\n",
       "      <th>0</th>\n",
       "      <td>baseline_model-KNeighborsClassifier</td>\n",
       "      <td>63658339b6ac45ebadda3bdd8a52e303</td>\n",
       "      <td>0.047785</td>\n",
       "      <td>2022-11-26 13:22:42.803686</td>\n",
       "      <td>{'0': {'precision': 0.9544321822712709, 'recal...</td>\n",
       "      <td>0.983530</td>\n",
       "      <td>smote</td>\n",
       "    </tr>\n",
       "    <tr>\n",
       "      <th>1</th>\n",
       "      <td>baseline_model-DecisionTreeClassifier</td>\n",
       "      <td>aee7b2ba7522351edde0afd2c87b6165</td>\n",
       "      <td>0.117268</td>\n",
       "      <td>2022-11-26 13:22:40.644870</td>\n",
       "      <td>{'0': {'precision': 0.9545779685264664, 'recal...</td>\n",
       "      <td>0.982089</td>\n",
       "      <td>smote</td>\n",
       "    </tr>\n",
       "    <tr>\n",
       "      <th>2</th>\n",
       "      <td>baseline_model-XGBClassifier</td>\n",
       "      <td>c543e3c27d3064c1f25c74f74be98470</td>\n",
       "      <td>0.524701</td>\n",
       "      <td>2022-11-26 13:22:43.038705</td>\n",
       "      <td>{'0': {'precision': 0.9370409233997902, 'recal...</td>\n",
       "      <td>0.976705</td>\n",
       "      <td>smote</td>\n",
       "    </tr>\n",
       "    <tr>\n",
       "      <th>3</th>\n",
       "      <td>baseline_model-RandomForestClassifier</td>\n",
       "      <td>08485f1bcb61439ee714183f70104081</td>\n",
       "      <td>1.967675</td>\n",
       "      <td>2022-11-26 13:22:40.773575</td>\n",
       "      <td>{'0': {'precision': 0.9370409233997902, 'recal...</td>\n",
       "      <td>0.976705</td>\n",
       "      <td>smote</td>\n",
       "    </tr>\n",
       "    <tr>\n",
       "      <th>4</th>\n",
       "      <td>baseline_model-LogisticRegression</td>\n",
       "      <td>6871e467e55331230228e25f299dd77c</td>\n",
       "      <td>0.344211</td>\n",
       "      <td>2022-11-26 13:22:40.283103</td>\n",
       "      <td>{'0': {'precision': 0.8038768529076397, 'recal...</td>\n",
       "      <td>0.858010</td>\n",
       "      <td>smote</td>\n",
       "    </tr>\n",
       "    <tr>\n",
       "      <th>5</th>\n",
       "      <td>baseline_model-DecisionTreeClassifier</td>\n",
       "      <td>2dc1f56086247043dc5f04bca5658390</td>\n",
       "      <td>0.114738</td>\n",
       "      <td>2022-11-26 12:49:13.281523</td>\n",
       "      <td>{'0': {'precision': 0.0, 'recall': 0.0, 'f1-sc...</td>\n",
       "      <td>0.416775</td>\n",
       "      <td>smote</td>\n",
       "    </tr>\n",
       "    <tr>\n",
       "      <th>6</th>\n",
       "      <td>baseline_model-XGBClassifier</td>\n",
       "      <td>1479c1994e7bed7dec7281b6fb6a4f4e</td>\n",
       "      <td>0.545936</td>\n",
       "      <td>2022-11-26 12:49:15.716504</td>\n",
       "      <td>{'0': {'precision': 0.0, 'recall': 0.0, 'f1-sc...</td>\n",
       "      <td>0.416775</td>\n",
       "      <td>smote</td>\n",
       "    </tr>\n",
       "    <tr>\n",
       "      <th>7</th>\n",
       "      <td>baseline_model-RandomForestClassifier</td>\n",
       "      <td>f53f9d37f54a29dca5f3007a60f9c3d9</td>\n",
       "      <td>2.046423</td>\n",
       "      <td>2022-11-26 12:49:13.410972</td>\n",
       "      <td>{'0': {'precision': 0.0, 'recall': 0.0, 'f1-sc...</td>\n",
       "      <td>0.416775</td>\n",
       "      <td>smote</td>\n",
       "    </tr>\n",
       "    <tr>\n",
       "      <th>8</th>\n",
       "      <td>baseline_model-KNeighborsClassifier</td>\n",
       "      <td>e762421930d4ae5dd652f717f00f616e</td>\n",
       "      <td>0.034666</td>\n",
       "      <td>2022-11-26 12:49:15.497212</td>\n",
       "      <td>{'0': {'precision': 0.28539493293591656, 'reca...</td>\n",
       "      <td>0.222029</td>\n",
       "      <td>smote</td>\n",
       "    </tr>\n",
       "    <tr>\n",
       "      <th>9</th>\n",
       "      <td>baseline_model-LogisticRegression</td>\n",
       "      <td>5d11e5f93a6c833ab8bfb5223448fa86</td>\n",
       "      <td>0.285711</td>\n",
       "      <td>2022-11-26 12:49:12.982046</td>\n",
       "      <td>{'0': {'precision': 0.2636084284460053, 'recal...</td>\n",
       "      <td>0.204109</td>\n",
       "      <td>smote</td>\n",
       "    </tr>\n",
       "  </tbody>\n",
       "</table>\n",
       "</div>"
      ],
      "text/plain": [
       "                              model_name                         model_uid  \\\n",
       "0    baseline_model-KNeighborsClassifier  63658339b6ac45ebadda3bdd8a52e303   \n",
       "1  baseline_model-DecisionTreeClassifier  aee7b2ba7522351edde0afd2c87b6165   \n",
       "2           baseline_model-XGBClassifier  c543e3c27d3064c1f25c74f74be98470   \n",
       "3  baseline_model-RandomForestClassifier  08485f1bcb61439ee714183f70104081   \n",
       "4      baseline_model-LogisticRegression  6871e467e55331230228e25f299dd77c   \n",
       "5  baseline_model-DecisionTreeClassifier  2dc1f56086247043dc5f04bca5658390   \n",
       "6           baseline_model-XGBClassifier  1479c1994e7bed7dec7281b6fb6a4f4e   \n",
       "7  baseline_model-RandomForestClassifier  f53f9d37f54a29dca5f3007a60f9c3d9   \n",
       "8    baseline_model-KNeighborsClassifier  e762421930d4ae5dd652f717f00f616e   \n",
       "9      baseline_model-LogisticRegression  5d11e5f93a6c833ab8bfb5223448fa86   \n",
       "\n",
       "   training_time               training_date  \\\n",
       "0       0.047785  2022-11-26 13:22:42.803686   \n",
       "1       0.117268  2022-11-26 13:22:40.644870   \n",
       "2       0.524701  2022-11-26 13:22:43.038705   \n",
       "3       1.967675  2022-11-26 13:22:40.773575   \n",
       "4       0.344211  2022-11-26 13:22:40.283103   \n",
       "5       0.114738  2022-11-26 12:49:13.281523   \n",
       "6       0.545936  2022-11-26 12:49:15.716504   \n",
       "7       2.046423  2022-11-26 12:49:13.410972   \n",
       "8       0.034666  2022-11-26 12:49:15.497212   \n",
       "9       0.285711  2022-11-26 12:49:12.982046   \n",
       "\n",
       "                                         performance  f1_score_avg  \\\n",
       "0  {'0': {'precision': 0.9544321822712709, 'recal...      0.983530   \n",
       "1  {'0': {'precision': 0.9545779685264664, 'recal...      0.982089   \n",
       "2  {'0': {'precision': 0.9370409233997902, 'recal...      0.976705   \n",
       "3  {'0': {'precision': 0.9370409233997902, 'recal...      0.976705   \n",
       "4  {'0': {'precision': 0.8038768529076397, 'recal...      0.858010   \n",
       "5  {'0': {'precision': 0.0, 'recall': 0.0, 'f1-sc...      0.416775   \n",
       "6  {'0': {'precision': 0.0, 'recall': 0.0, 'f1-sc...      0.416775   \n",
       "7  {'0': {'precision': 0.0, 'recall': 0.0, 'f1-sc...      0.416775   \n",
       "8  {'0': {'precision': 0.28539493293591656, 'reca...      0.222029   \n",
       "9  {'0': {'precision': 0.2636084284460053, 'recal...      0.204109   \n",
       "\n",
       "  data_configurations  \n",
       "0               smote  \n",
       "1               smote  \n",
       "2               smote  \n",
       "3               smote  \n",
       "4               smote  \n",
       "5               smote  \n",
       "6               smote  \n",
       "7               smote  \n",
       "8               smote  \n",
       "9               smote  "
      ]
     },
     "execution_count": 128,
     "metadata": {},
     "output_type": "execute_result"
    }
   ],
   "source": [
    "training_res = training_log_to_df(training_log)\n",
    "training_res"
   ]
  },
  {
   "cell_type": "code",
   "execution_count": 129,
   "metadata": {},
   "outputs": [
    {
     "data": {
      "text/plain": [
       "model_name                           baseline_model-KNeighborsClassifier\n",
       "model_uid                               63658339b6ac45ebadda3bdd8a52e303\n",
       "training_time                                                   0.047785\n",
       "training_date                                 2022-11-26 13:22:42.803686\n",
       "performance            {'0': {'precision': 0.9544321822712709, 'recal...\n",
       "f1_score_avg                                                     0.98353\n",
       "data_configurations                                                smote\n",
       "Name: 0, dtype: object"
      ]
     },
     "execution_count": 129,
     "metadata": {},
     "output_type": "execute_result"
    }
   ],
   "source": [
    "training_res.loc[0]"
   ]
  },
  {
   "cell_type": "markdown",
   "metadata": {},
   "source": [
    "#### Training dg model terbaik"
   ]
  },
  {
   "cell_type": "code",
   "execution_count": 130,
   "metadata": {},
   "outputs": [
    {
     "data": {
      "text/html": [
       "<style>#sk-container-id-2 {color: black;background-color: white;}#sk-container-id-2 pre{padding: 0;}#sk-container-id-2 div.sk-toggleable {background-color: white;}#sk-container-id-2 label.sk-toggleable__label {cursor: pointer;display: block;width: 100%;margin-bottom: 0;padding: 0.3em;box-sizing: border-box;text-align: center;}#sk-container-id-2 label.sk-toggleable__label-arrow:before {content: \"▸\";float: left;margin-right: 0.25em;color: #696969;}#sk-container-id-2 label.sk-toggleable__label-arrow:hover:before {color: black;}#sk-container-id-2 div.sk-estimator:hover label.sk-toggleable__label-arrow:before {color: black;}#sk-container-id-2 div.sk-toggleable__content {max-height: 0;max-width: 0;overflow: hidden;text-align: left;background-color: #f0f8ff;}#sk-container-id-2 div.sk-toggleable__content pre {margin: 0.2em;color: black;border-radius: 0.25em;background-color: #f0f8ff;}#sk-container-id-2 input.sk-toggleable__control:checked~div.sk-toggleable__content {max-height: 200px;max-width: 100%;overflow: auto;}#sk-container-id-2 input.sk-toggleable__control:checked~label.sk-toggleable__label-arrow:before {content: \"▾\";}#sk-container-id-2 div.sk-estimator input.sk-toggleable__control:checked~label.sk-toggleable__label {background-color: #d4ebff;}#sk-container-id-2 div.sk-label input.sk-toggleable__control:checked~label.sk-toggleable__label {background-color: #d4ebff;}#sk-container-id-2 input.sk-hidden--visually {border: 0;clip: rect(1px 1px 1px 1px);clip: rect(1px, 1px, 1px, 1px);height: 1px;margin: -1px;overflow: hidden;padding: 0;position: absolute;width: 1px;}#sk-container-id-2 div.sk-estimator {font-family: monospace;background-color: #f0f8ff;border: 1px dotted black;border-radius: 0.25em;box-sizing: border-box;margin-bottom: 0.5em;}#sk-container-id-2 div.sk-estimator:hover {background-color: #d4ebff;}#sk-container-id-2 div.sk-parallel-item::after {content: \"\";width: 100%;border-bottom: 1px solid gray;flex-grow: 1;}#sk-container-id-2 div.sk-label:hover label.sk-toggleable__label {background-color: #d4ebff;}#sk-container-id-2 div.sk-serial::before {content: \"\";position: absolute;border-left: 1px solid gray;box-sizing: border-box;top: 0;bottom: 0;left: 50%;z-index: 0;}#sk-container-id-2 div.sk-serial {display: flex;flex-direction: column;align-items: center;background-color: white;padding-right: 0.2em;padding-left: 0.2em;position: relative;}#sk-container-id-2 div.sk-item {position: relative;z-index: 1;}#sk-container-id-2 div.sk-parallel {display: flex;align-items: stretch;justify-content: center;background-color: white;position: relative;}#sk-container-id-2 div.sk-item::before, #sk-container-id-2 div.sk-parallel-item::before {content: \"\";position: absolute;border-left: 1px solid gray;box-sizing: border-box;top: 0;bottom: 0;left: 50%;z-index: -1;}#sk-container-id-2 div.sk-parallel-item {display: flex;flex-direction: column;z-index: 1;position: relative;background-color: white;}#sk-container-id-2 div.sk-parallel-item:first-child::after {align-self: flex-end;width: 50%;}#sk-container-id-2 div.sk-parallel-item:last-child::after {align-self: flex-start;width: 50%;}#sk-container-id-2 div.sk-parallel-item:only-child::after {width: 0;}#sk-container-id-2 div.sk-dashed-wrapped {border: 1px dashed gray;margin: 0 0.4em 0.5em 0.4em;box-sizing: border-box;padding-bottom: 0.4em;background-color: white;}#sk-container-id-2 div.sk-label label {font-family: monospace;font-weight: bold;display: inline-block;line-height: 1.2em;}#sk-container-id-2 div.sk-label-container {text-align: center;}#sk-container-id-2 div.sk-container {/* jupyter's `normalize.less` sets `[hidden] { display: none; }` but bootstrap.min.css set `[hidden] { display: none !important; }` so we also need the `!important` here to be able to override the default hidden behavior on the sphinx rendered scikit-learn.org. See: https://github.com/scikit-learn/scikit-learn/issues/21755 */display: inline-block !important;position: relative;}#sk-container-id-2 div.sk-text-repr-fallback {display: none;}</style><div id=\"sk-container-id-2\" class=\"sk-top-container\"><div class=\"sk-text-repr-fallback\"><pre>DecisionTreeClassifier()</pre><b>In a Jupyter environment, please rerun this cell to show the HTML representation or trust the notebook. <br />On GitHub, the HTML representation is unable to render, please try loading this page with nbviewer.org.</b></div><div class=\"sk-container\" hidden><div class=\"sk-item\"><div class=\"sk-estimator sk-toggleable\"><input class=\"sk-toggleable__control sk-hidden--visually\" id=\"sk-estimator-id-2\" type=\"checkbox\" checked><label for=\"sk-estimator-id-2\" class=\"sk-toggleable__label sk-toggleable__label-arrow\">DecisionTreeClassifier</label><div class=\"sk-toggleable__content\"><pre>DecisionTreeClassifier()</pre></div></div></div></div></div>"
      ],
      "text/plain": [
       "DecisionTreeClassifier()"
      ]
     },
     "execution_count": 130,
     "metadata": {},
     "output_type": "execute_result"
    }
   ],
   "source": [
    "dtc = DecisionTreeClassifier()\n",
    "dtc.fit(x_train, y_train)"
   ]
  },
  {
   "cell_type": "code",
   "execution_count": 131,
   "metadata": {},
   "outputs": [
    {
     "data": {
      "text/html": [
       "<div>\n",
       "<style scoped>\n",
       "    .dataframe tbody tr th:only-of-type {\n",
       "        vertical-align: middle;\n",
       "    }\n",
       "\n",
       "    .dataframe tbody tr th {\n",
       "        vertical-align: top;\n",
       "    }\n",
       "\n",
       "    .dataframe thead th {\n",
       "        text-align: right;\n",
       "    }\n",
       "</style>\n",
       "<table border=\"1\" class=\"dataframe\">\n",
       "  <thead>\n",
       "    <tr style=\"text-align: right;\">\n",
       "      <th></th>\n",
       "      <th>Temperature</th>\n",
       "      <th>Humidity</th>\n",
       "      <th>TVOC</th>\n",
       "      <th>eCO2</th>\n",
       "      <th>Raw_H2</th>\n",
       "      <th>Raw_Ethanol</th>\n",
       "      <th>Pressure</th>\n",
       "      <th>PM1.0</th>\n",
       "    </tr>\n",
       "  </thead>\n",
       "  <tbody>\n",
       "    <tr>\n",
       "      <th>0</th>\n",
       "      <td>27.120</td>\n",
       "      <td>47.37</td>\n",
       "      <td>1228</td>\n",
       "      <td>405</td>\n",
       "      <td>12909</td>\n",
       "      <td>19428</td>\n",
       "      <td>938.728</td>\n",
       "      <td>1.66</td>\n",
       "    </tr>\n",
       "    <tr>\n",
       "      <th>40392</th>\n",
       "      <td>26.990</td>\n",
       "      <td>47.68</td>\n",
       "      <td>1329</td>\n",
       "      <td>402</td>\n",
       "      <td>12971</td>\n",
       "      <td>19394</td>\n",
       "      <td>938.749</td>\n",
       "      <td>1.73</td>\n",
       "    </tr>\n",
       "    <tr>\n",
       "      <th>40379</th>\n",
       "      <td>18.050</td>\n",
       "      <td>52.88</td>\n",
       "      <td>97</td>\n",
       "      <td>400</td>\n",
       "      <td>13192</td>\n",
       "      <td>20078</td>\n",
       "      <td>939.665</td>\n",
       "      <td>1.06</td>\n",
       "    </tr>\n",
       "    <tr>\n",
       "      <th>40380</th>\n",
       "      <td>26.200</td>\n",
       "      <td>51.57</td>\n",
       "      <td>1270</td>\n",
       "      <td>400</td>\n",
       "      <td>12971</td>\n",
       "      <td>19408</td>\n",
       "      <td>938.725</td>\n",
       "      <td>1.76</td>\n",
       "    </tr>\n",
       "    <tr>\n",
       "      <th>40381</th>\n",
       "      <td>28.430</td>\n",
       "      <td>42.97</td>\n",
       "      <td>152</td>\n",
       "      <td>431</td>\n",
       "      <td>12774</td>\n",
       "      <td>20562</td>\n",
       "      <td>937.356</td>\n",
       "      <td>1.96</td>\n",
       "    </tr>\n",
       "    <tr>\n",
       "      <th>...</th>\n",
       "      <td>...</td>\n",
       "      <td>...</td>\n",
       "      <td>...</td>\n",
       "      <td>...</td>\n",
       "      <td>...</td>\n",
       "      <td>...</td>\n",
       "      <td>...</td>\n",
       "      <td>...</td>\n",
       "    </tr>\n",
       "    <tr>\n",
       "      <th>2003</th>\n",
       "      <td>8.687</td>\n",
       "      <td>46.95</td>\n",
       "      <td>48</td>\n",
       "      <td>411</td>\n",
       "      <td>12797</td>\n",
       "      <td>20714</td>\n",
       "      <td>937.534</td>\n",
       "      <td>2.15</td>\n",
       "    </tr>\n",
       "    <tr>\n",
       "      <th>774</th>\n",
       "      <td>26.800</td>\n",
       "      <td>48.28</td>\n",
       "      <td>1310</td>\n",
       "      <td>400</td>\n",
       "      <td>12977</td>\n",
       "      <td>19405</td>\n",
       "      <td>938.709</td>\n",
       "      <td>1.76</td>\n",
       "    </tr>\n",
       "    <tr>\n",
       "      <th>18944</th>\n",
       "      <td>12.596</td>\n",
       "      <td>53.76</td>\n",
       "      <td>1115</td>\n",
       "      <td>400</td>\n",
       "      <td>12898</td>\n",
       "      <td>19452</td>\n",
       "      <td>938.748</td>\n",
       "      <td>1.79</td>\n",
       "    </tr>\n",
       "    <tr>\n",
       "      <th>21139</th>\n",
       "      <td>20.920</td>\n",
       "      <td>51.16</td>\n",
       "      <td>350</td>\n",
       "      <td>400</td>\n",
       "      <td>13069</td>\n",
       "      <td>19916</td>\n",
       "      <td>939.268</td>\n",
       "      <td>0.44</td>\n",
       "    </tr>\n",
       "    <tr>\n",
       "      <th>18952</th>\n",
       "      <td>26.940</td>\n",
       "      <td>47.67</td>\n",
       "      <td>1140</td>\n",
       "      <td>404</td>\n",
       "      <td>12881</td>\n",
       "      <td>19440</td>\n",
       "      <td>938.784</td>\n",
       "      <td>1.46</td>\n",
       "    </tr>\n",
       "  </tbody>\n",
       "</table>\n",
       "<p>45207 rows × 8 columns</p>\n",
       "</div>"
      ],
      "text/plain": [
       "       Temperature  Humidity  TVOC  eCO2  Raw_H2  Raw_Ethanol  Pressure  PM1.0\n",
       "0           27.120     47.37  1228   405   12909        19428   938.728   1.66\n",
       "40392       26.990     47.68  1329   402   12971        19394   938.749   1.73\n",
       "40379       18.050     52.88    97   400   13192        20078   939.665   1.06\n",
       "40380       26.200     51.57  1270   400   12971        19408   938.725   1.76\n",
       "40381       28.430     42.97   152   431   12774        20562   937.356   1.96\n",
       "...            ...       ...   ...   ...     ...          ...       ...    ...\n",
       "2003         8.687     46.95    48   411   12797        20714   937.534   2.15\n",
       "774         26.800     48.28  1310   400   12977        19405   938.709   1.76\n",
       "18944       12.596     53.76  1115   400   12898        19452   938.748   1.79\n",
       "21139       20.920     51.16   350   400   13069        19916   939.268   0.44\n",
       "18952       26.940     47.67  1140   404   12881        19440   938.784   1.46\n",
       "\n",
       "[45207 rows x 8 columns]"
      ]
     },
     "execution_count": 131,
     "metadata": {},
     "output_type": "execute_result"
    }
   ],
   "source": [
    "x_train"
   ]
  },
  {
   "cell_type": "code",
   "execution_count": 132,
   "metadata": {},
   "outputs": [
    {
     "data": {
      "text/plain": [
       "[Text(0.6459703947368421, 0.9642857142857143, 'TVOC <= 217.5\\ngini = 0.496\\nsamples = 45207\\nvalue = [24522, 20685]'),\n",
       " Text(0.46792763157894735, 0.8928571428571429, 'Raw_H2 <= 13143.5\\ngini = 0.231\\nsamples = 27798\\nvalue = [24087, 3711]'),\n",
       " Text(0.19078947368421054, 0.8214285714285714, 'TVOC <= 209.5\\ngini = 0.007\\nsamples = 18800\\nvalue = [18733, 67]'),\n",
       " Text(0.125, 0.75, 'Raw_H2 <= 13140.5\\ngini = 0.001\\nsamples = 18552\\nvalue = [18542, 10]'),\n",
       " Text(0.07236842105263158, 0.6785714285714286, 'eCO2 <= 453.5\\ngini = 0.0\\nsamples = 18334\\nvalue = [18331, 3]'),\n",
       " Text(0.046052631578947366, 0.6071428571428571, 'gini = 0.0\\nsamples = 18040\\nvalue = [18040, 0]'),\n",
       " Text(0.09868421052631579, 0.6071428571428571, 'TVOC <= 29.5\\ngini = 0.02\\nsamples = 294\\nvalue = [291, 3]'),\n",
       " Text(0.07236842105263158, 0.5357142857142857, 'eCO2 <= 456.5\\ngini = 0.42\\nsamples = 10\\nvalue = [7, 3]'),\n",
       " Text(0.046052631578947366, 0.4642857142857143, 'gini = 0.0\\nsamples = 3\\nvalue = [0, 3]'),\n",
       " Text(0.09868421052631579, 0.4642857142857143, 'gini = 0.0\\nsamples = 7\\nvalue = [7, 0]'),\n",
       " Text(0.125, 0.5357142857142857, 'gini = 0.0\\nsamples = 284\\nvalue = [284, 0]'),\n",
       " Text(0.17763157894736842, 0.6785714285714286, 'TVOC <= 197.5\\ngini = 0.062\\nsamples = 218\\nvalue = [211, 7]'),\n",
       " Text(0.1513157894736842, 0.6071428571428571, 'gini = 0.0\\nsamples = 209\\nvalue = [209, 0]'),\n",
       " Text(0.20394736842105263, 0.6071428571428571, 'Raw_Ethanol <= 20007.0\\ngini = 0.346\\nsamples = 9\\nvalue = [2, 7]'),\n",
       " Text(0.17763157894736842, 0.5357142857142857, 'gini = 0.0\\nsamples = 2\\nvalue = [2, 0]'),\n",
       " Text(0.23026315789473684, 0.5357142857142857, 'gini = 0.0\\nsamples = 7\\nvalue = [0, 7]'),\n",
       " Text(0.2565789473684211, 0.75, 'Raw_H2 <= 13130.5\\ngini = 0.354\\nsamples = 248\\nvalue = [191, 57]'),\n",
       " Text(0.23026315789473684, 0.6785714285714286, 'gini = 0.0\\nsamples = 191\\nvalue = [191, 0]'),\n",
       " Text(0.28289473684210525, 0.6785714285714286, 'gini = 0.0\\nsamples = 57\\nvalue = [0, 57]'),\n",
       " Text(0.7450657894736842, 0.8214285714285714, 'PM1.0 <= 1.99\\ngini = 0.482\\nsamples = 8998\\nvalue = [5354, 3644]'),\n",
       " Text(0.6924342105263158, 0.75, 'Temperature <= 9.387\\ngini = 0.354\\nsamples = 6504\\nvalue = [5012, 1492]'),\n",
       " Text(0.6661184210526315, 0.6785714285714286, 'gini = 0.0\\nsamples = 708\\nvalue = [0, 708]'),\n",
       " Text(0.71875, 0.6785714285714286, 'TVOC <= 182.5\\ngini = 0.234\\nsamples = 5796\\nvalue = [5012, 784]'),\n",
       " Text(0.5164473684210527, 0.6071428571428571, 'Pressure <= 939.658\\ngini = 0.168\\nsamples = 5501\\nvalue = [4993, 508]'),\n",
       " Text(0.28289473684210525, 0.5357142857142857, 'TVOC <= 85.5\\ngini = 0.097\\nsamples = 4740\\nvalue = [4498, 242]'),\n",
       " Text(0.19736842105263158, 0.4642857142857143, 'Humidity <= 56.57\\ngini = 0.012\\nsamples = 3263\\nvalue = [3244, 19]'),\n",
       " Text(0.17105263157894737, 0.39285714285714285, 'PM1.0 <= 1.93\\ngini = 0.011\\nsamples = 3262\\nvalue = [3244, 18]'),\n",
       " Text(0.10526315789473684, 0.32142857142857145, 'TVOC <= 78.5\\ngini = 0.003\\nsamples = 3069\\nvalue = [3064, 5]'),\n",
       " Text(0.05263157894736842, 0.25, 'TVOC <= 67.5\\ngini = 0.001\\nsamples = 3003\\nvalue = [3001, 2]'),\n",
       " Text(0.02631578947368421, 0.17857142857142858, 'gini = 0.0\\nsamples = 2873\\nvalue = [2873, 0]'),\n",
       " Text(0.07894736842105263, 0.17857142857142858, 'PM1.0 <= 1.77\\ngini = 0.03\\nsamples = 130\\nvalue = [128, 2]'),\n",
       " Text(0.05263157894736842, 0.10714285714285714, 'gini = 0.0\\nsamples = 128\\nvalue = [128, 0]'),\n",
       " Text(0.10526315789473684, 0.10714285714285714, 'gini = 0.0\\nsamples = 2\\nvalue = [0, 2]'),\n",
       " Text(0.15789473684210525, 0.25, 'PM1.0 <= 1.759\\ngini = 0.087\\nsamples = 66\\nvalue = [63, 3]'),\n",
       " Text(0.13157894736842105, 0.17857142857142858, 'gini = 0.0\\nsamples = 63\\nvalue = [63, 0]'),\n",
       " Text(0.18421052631578946, 0.17857142857142858, 'gini = 0.0\\nsamples = 3\\nvalue = [0, 3]'),\n",
       " Text(0.23684210526315788, 0.32142857142857145, 'Raw_Ethanol <= 20566.5\\ngini = 0.126\\nsamples = 193\\nvalue = [180, 13]'),\n",
       " Text(0.21052631578947367, 0.25, 'gini = 0.0\\nsamples = 13\\nvalue = [0, 13]'),\n",
       " Text(0.2631578947368421, 0.25, 'gini = 0.0\\nsamples = 180\\nvalue = [180, 0]'),\n",
       " Text(0.2236842105263158, 0.39285714285714285, 'gini = 0.0\\nsamples = 1\\nvalue = [0, 1]'),\n",
       " Text(0.3684210526315789, 0.4642857142857143, 'Raw_Ethanol <= 20075.5\\ngini = 0.256\\nsamples = 1477\\nvalue = [1254, 223]'),\n",
       " Text(0.3157894736842105, 0.39285714285714285, 'PM1.0 <= 1.38\\ngini = 0.047\\nsamples = 1004\\nvalue = [980, 24]'),\n",
       " Text(0.2894736842105263, 0.32142857142857145, 'gini = 0.0\\nsamples = 979\\nvalue = [979, 0]'),\n",
       " Text(0.34210526315789475, 0.32142857142857145, 'Raw_H2 <= 13227.5\\ngini = 0.077\\nsamples = 25\\nvalue = [1, 24]'),\n",
       " Text(0.3157894736842105, 0.25, 'gini = 0.0\\nsamples = 24\\nvalue = [0, 24]'),\n",
       " Text(0.3684210526315789, 0.25, 'gini = 0.0\\nsamples = 1\\nvalue = [1, 0]'),\n",
       " Text(0.42105263157894735, 0.39285714285714285, 'Humidity <= 47.1\\ngini = 0.487\\nsamples = 473\\nvalue = [274, 199]'),\n",
       " Text(0.39473684210526316, 0.32142857142857145, 'gini = 0.0\\nsamples = 164\\nvalue = [164, 0]'),\n",
       " Text(0.4473684210526316, 0.32142857142857145, 'Temperature <= 19.054\\ngini = 0.459\\nsamples = 309\\nvalue = [110, 199]'),\n",
       " Text(0.42105263157894735, 0.25, 'gini = 0.0\\nsamples = 80\\nvalue = [80, 0]'),\n",
       " Text(0.47368421052631576, 0.25, 'Raw_Ethanol <= 20580.0\\ngini = 0.228\\nsamples = 229\\nvalue = [30, 199]'),\n",
       " Text(0.4473684210526316, 0.17857142857142858, 'TVOC <= 97.5\\ngini = 0.066\\nsamples = 206\\nvalue = [7, 199]'),\n",
       " Text(0.42105263157894735, 0.10714285714285714, 'PM1.0 <= 1.46\\ngini = 0.358\\nsamples = 30\\nvalue = [7, 23]'),\n",
       " Text(0.39473684210526316, 0.03571428571428571, 'gini = 0.0\\nsamples = 7\\nvalue = [7, 0]'),\n",
       " Text(0.4473684210526316, 0.03571428571428571, 'gini = 0.0\\nsamples = 23\\nvalue = [0, 23]'),\n",
       " Text(0.47368421052631576, 0.10714285714285714, 'gini = 0.0\\nsamples = 176\\nvalue = [0, 176]'),\n",
       " Text(0.5, 0.17857142857142858, 'gini = 0.0\\nsamples = 23\\nvalue = [23, 0]'),\n",
       " Text(0.75, 0.5357142857142857, 'PM1.0 <= 1.076\\ngini = 0.455\\nsamples = 761\\nvalue = [495, 266]'),\n",
       " Text(0.6842105263157895, 0.4642857142857143, 'Raw_Ethanol <= 20086.5\\ngini = 0.213\\nsamples = 554\\nvalue = [487, 67]'),\n",
       " Text(0.631578947368421, 0.39285714285714285, 'Temperature <= 21.458\\ngini = 0.035\\nsamples = 444\\nvalue = [436, 8]'),\n",
       " Text(0.6052631578947368, 0.32142857142857145, 'Humidity <= 53.165\\ngini = 0.022\\nsamples = 441\\nvalue = [436, 5]'),\n",
       " Text(0.5789473684210527, 0.25, 'TVOC <= 178.5\\ngini = 0.009\\nsamples = 438\\nvalue = [436, 2]'),\n",
       " Text(0.5526315789473685, 0.17857142857142858, 'gini = 0.0\\nsamples = 428\\nvalue = [428, 0]'),\n",
       " Text(0.6052631578947368, 0.17857142857142858, 'Raw_H2 <= 13157.0\\ngini = 0.32\\nsamples = 10\\nvalue = [8, 2]'),\n",
       " Text(0.5789473684210527, 0.10714285714285714, 'gini = 0.0\\nsamples = 8\\nvalue = [8, 0]'),\n",
       " Text(0.631578947368421, 0.10714285714285714, 'gini = 0.0\\nsamples = 2\\nvalue = [0, 2]'),\n",
       " Text(0.631578947368421, 0.25, 'gini = 0.0\\nsamples = 3\\nvalue = [0, 3]'),\n",
       " Text(0.6578947368421053, 0.32142857142857145, 'gini = 0.0\\nsamples = 3\\nvalue = [0, 3]'),\n",
       " Text(0.7368421052631579, 0.39285714285714285, 'TVOC <= 113.5\\ngini = 0.497\\nsamples = 110\\nvalue = [51, 59]'),\n",
       " Text(0.7105263157894737, 0.32142857142857145, 'gini = 0.0\\nsamples = 51\\nvalue = [51, 0]'),\n",
       " Text(0.7631578947368421, 0.32142857142857145, 'gini = 0.0\\nsamples = 59\\nvalue = [0, 59]'),\n",
       " Text(0.8157894736842105, 0.4642857142857143, 'Temperature <= 18.735\\ngini = 0.074\\nsamples = 207\\nvalue = [8, 199]'),\n",
       " Text(0.7894736842105263, 0.39285714285714285, 'gini = 0.0\\nsamples = 6\\nvalue = [6, 0]'),\n",
       " Text(0.8421052631578947, 0.39285714285714285, 'Humidity <= 46.16\\ngini = 0.02\\nsamples = 201\\nvalue = [2, 199]'),\n",
       " Text(0.8157894736842105, 0.32142857142857145, 'gini = 0.0\\nsamples = 2\\nvalue = [2, 0]'),\n",
       " Text(0.868421052631579, 0.32142857142857145, 'gini = 0.0\\nsamples = 199\\nvalue = [0, 199]'),\n",
       " Text(0.9210526315789473, 0.6071428571428571, 'Humidity <= 47.505\\ngini = 0.121\\nsamples = 295\\nvalue = [19, 276]'),\n",
       " Text(0.8947368421052632, 0.5357142857142857, 'gini = 0.0\\nsamples = 15\\nvalue = [15, 0]'),\n",
       " Text(0.9473684210526315, 0.5357142857142857, 'Raw_H2 <= 13208.5\\ngini = 0.028\\nsamples = 280\\nvalue = [4, 276]'),\n",
       " Text(0.9210526315789473, 0.4642857142857143, 'Raw_Ethanol <= 19984.5\\ngini = 0.007\\nsamples = 277\\nvalue = [1, 276]'),\n",
       " Text(0.8947368421052632, 0.39285714285714285, 'gini = 0.0\\nsamples = 1\\nvalue = [1, 0]'),\n",
       " Text(0.9473684210526315, 0.39285714285714285, 'gini = 0.0\\nsamples = 276\\nvalue = [0, 276]'),\n",
       " Text(0.9736842105263158, 0.4642857142857143, 'gini = 0.0\\nsamples = 3\\nvalue = [3, 0]'),\n",
       " Text(0.7976973684210527, 0.75, 'Raw_Ethanol <= 20701.5\\ngini = 0.237\\nsamples = 2494\\nvalue = [342, 2152]'),\n",
       " Text(0.7713815789473685, 0.6785714285714286, 'gini = 0.0\\nsamples = 2152\\nvalue = [0, 2152]'),\n",
       " Text(0.8240131578947368, 0.6785714285714286, 'gini = 0.0\\nsamples = 342\\nvalue = [342, 0]'),\n",
       " Text(0.8240131578947368, 0.8928571428571429, 'Pressure <= 938.06\\ngini = 0.049\\nsamples = 17409\\nvalue = [435, 16974]'),\n",
       " Text(0.7976973684210527, 0.8214285714285714, 'gini = 0.0\\nsamples = 435\\nvalue = [435, 0]'),\n",
       " Text(0.850328947368421, 0.8214285714285714, 'gini = 0.0\\nsamples = 16974\\nvalue = [0, 16974]')]"
      ]
     },
     "execution_count": 132,
     "metadata": {},
     "output_type": "execute_result"
    },
    {
     "data": {
      "image/png": "[encoded data removed]",
      "text/plain": [
       "<Figure size 640x480 with 1 Axes>"
      ]
     },
     "metadata": {},
     "output_type": "display_data"
    }
   ],
   "source": [
    "tree.plot_tree(dtc, filled=True, feature_names=dtc.feature_names_in_)"
   ]
  },
  {
   "cell_type": "markdown",
   "metadata": {},
   "source": [
    "#### Evaluation"
   ]
  },
  {
   "cell_type": "code",
   "execution_count": 133,
   "metadata": {},
   "outputs": [
    {
     "name": "stdout",
     "output_type": "stream",
     "text": [
      "              precision    recall  f1-score   support\n",
      "\n",
      "           0       0.94      1.00      0.97      2681\n",
      "           1       1.00      0.97      0.99      6713\n",
      "\n",
      "    accuracy                           0.98      9394\n",
      "   macro avg       0.97      0.98      0.98      9394\n",
      "weighted avg       0.98      0.98      0.98      9394\n",
      "\n"
     ]
    }
   ],
   "source": [
    "y_pred = dtc.predict(x_valid)\n",
    "print(classification_report(y_valid, y_pred))"
   ]
  },
  {
   "cell_type": "code",
   "execution_count": 138,
   "metadata": {},
   "outputs": [
    {
     "name": "stdout",
     "output_type": "stream",
     "text": [
      "              precision    recall  f1-score   support\n",
      "\n",
      "           0       0.94      0.99      0.97      2681\n",
      "           1       1.00      0.98      0.99      6714\n",
      "\n",
      "    accuracy                           0.98      9395\n",
      "   macro avg       0.97      0.99      0.98      9395\n",
      "weighted avg       0.98      0.98      0.98      9395\n",
      "\n"
     ]
    }
   ],
   "source": [
    "y_pred = dtc.predict(x_test)\n",
    "print(classification_report(y_test, y_pred))"
   ]
  },
  {
   "cell_type": "code",
   "execution_count": 139,
   "metadata": {},
   "outputs": [
    {
     "data": {
      "text/plain": [
       "<sklearn.metrics._plot.confusion_matrix.ConfusionMatrixDisplay at 0x7fa8dfc3f610>"
      ]
     },
     "execution_count": 139,
     "metadata": {},
     "output_type": "execute_result"
    },
    {
     "data": {
      "image/png": "[encoded data removed]",
      "text/plain": [
       "<Figure size 640x480 with 2 Axes>"
      ]
     },
     "metadata": {},
     "output_type": "display_data"
    }
   ],
   "source": [
    "ConfusionMatrixDisplay.from_predictions(y_test, y_pred)"
   ]
  },
  {
   "cell_type": "code",
   "execution_count": null,
   "metadata": {},
   "outputs": [],
   "source": []
  }
 ],
 "metadata": {
  "kernelspec": {
   "display_name": "Python 3.8.10 ('venv_mlproject': venv)",
   "language": "python",
   "name": "python3"
  },
  "language_info": {
   "codemirror_mode": {
    "name": "ipython",
    "version": 3
   },
   "file_extension": ".py",
   "mimetype": "text/x-python",
   "name": "python",
   "nbconvert_exporter": "python",
   "pygments_lexer": "ipython3",
   "version": "3.8.10"
  },
  "orig_nbformat": 4,
  "vscode": {
   "interpreter": {
    "hash": "6df2f55f3efb84c3ea0b0b0980bf4105a27fcb756340ab0235795f7ee117f064"
   }
  }
 },
 "nbformat": 4,
 "nbformat_minor": 2
}
