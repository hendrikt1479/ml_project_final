{
 "cells": [
  {
   "cell_type": "code",
   "execution_count": 55,
   "metadata": {},
   "outputs": [],
   "source": [
    "import pandas as pd\n",
    "import joblib\n",
    "import copy\n",
    "import hashlib\n",
    "import json\n",
    "from datetime import datetime\n",
    "from tqdm import tqdm\n",
    "\n",
    "from sklearn.linear_model import LogisticRegression\n",
    "from sklearn.tree import DecisionTreeClassifier\n",
    "from sklearn.ensemble import RandomForestClassifier\n",
    "from sklearn.neighbors import KNeighborsClassifier\n",
    "from xgboost import XGBClassifier\n",
    "\n",
    "from sklearn.metrics import classification_report, ConfusionMatrixDisplay, roc_curve, roc_auc_score\n",
    "from sklearn.model_selection import RandomizedSearchCV, GridSearchCV\n",
    "from sklearn import tree"
   ]
  },
  {
   "cell_type": "markdown",
   "metadata": {},
   "source": [
    "#### Log"
   ]
  },
  {
   "cell_type": "code",
   "execution_count": 56,
   "metadata": {},
   "outputs": [],
   "source": [
    "def time_stamp():\n",
    "    return datetime.now()"
   ]
  },
  {
   "cell_type": "code",
   "execution_count": 57,
   "metadata": {},
   "outputs": [],
   "source": [
    "def create_log_template():\n",
    "    logger = {\n",
    "        'model_name' : [],\n",
    "        'model_uid' : [],\n",
    "        'training_time' : [],\n",
    "        'training_date' : [],\n",
    "        'performance' : [],\n",
    "        'f1_score_avg' : [],\n",
    "        'data_configurations' : [],\n",
    "    }\n",
    "\n",
    "    return logger"
   ]
  },
  {
   "cell_type": "code",
   "execution_count": 58,
   "metadata": {},
   "outputs": [],
   "source": [
    "def training_log_updater(current_log, log_path):\n",
    "    current_log = current_log.copy()\n",
    "\n",
    "    try:\n",
    "        with open(log_path, 'r') as file:\n",
    "            last_log = json.load(file)\n",
    "        file.close()\n",
    "    except FileNotFoundError as ffe:\n",
    "        with open(log_path, 'w') as file:\n",
    "            file.write('[]')\n",
    "        file.close()\n",
    "        with open(log_path, 'r') as file:\n",
    "            last_log = json.load(file)\n",
    "        file.close()\n",
    "    \n",
    "    last_log.append(current_log)\n",
    "\n",
    "    with open(log_path, 'w') as file:\n",
    "        json.dump(last_log, file)\n",
    "        file.close()\n",
    "\n",
    "    return last_log"
   ]
  },
  {
   "cell_type": "markdown",
   "metadata": {},
   "source": [
    "#### Training"
   ]
  },
  {
   "cell_type": "code",
   "execution_count": 59,
   "metadata": {},
   "outputs": [],
   "source": [
    "lgr_baseline = LogisticRegression()\n",
    "dct_baseline = DecisionTreeClassifier()\n",
    "rfc_baseline = RandomForestClassifier()\n",
    "knn_baseline = KNeighborsClassifier()\n",
    "xgb_baseline = XGBClassifier()"
   ]
  },
  {
   "cell_type": "code",
   "execution_count": 60,
   "metadata": {},
   "outputs": [],
   "source": [
    "list_of_model = {\n",
    "        'smote' : [\n",
    "        { 'model_name': lgr_baseline.__class__.__name__, 'model_object': lgr_baseline, 'model_uid': ''},\n",
    "        { 'model_name': dct_baseline.__class__.__name__, 'model_object': dct_baseline, 'model_uid': ''},\n",
    "        { 'model_name': rfc_baseline.__class__.__name__, 'model_object': rfc_baseline, 'model_uid': ''},\n",
    "        { 'model_name': knn_baseline.__class__.__name__, 'model_object': knn_baseline, 'model_uid': ''},\n",
    "        { 'model_name': xgb_baseline.__class__.__name__, 'model_object': xgb_baseline, 'model_uid': ''}\n",
    "        ],\n",
    "    }"
   ]
  },
  {
   "cell_type": "code",
   "execution_count": 61,
   "metadata": {},
   "outputs": [],
   "source": [
    "def train_eval_model(list_of_model, prefix_model_name, x_train, y_train, data_configuration_name, x_valid, y_valid, log_path):\n",
    "\n",
    "    list_of_model = copy.deepcopy(list_of_model)\n",
    "    logger = create_log_template()\n",
    "\n",
    "    for model in tqdm(list_of_model):    \n",
    "        model_name = prefix_model_name + '-' + model['model_name']\n",
    "\n",
    "        start_time = time_stamp()\n",
    "        model['model_object'].fit(x_train, y_train)\n",
    "        finished_time = time_stamp()\n",
    "\n",
    "        elapsed_time = finished_time - start_time\n",
    "        elapsed_time = elapsed_time.total_seconds()\n",
    "\n",
    "        y_pred = model['model_object'].predict(x_valid)\n",
    "        performance = classification_report(y_valid, y_pred, output_dict = True)\n",
    "\n",
    "        plain_id = str(start_time) + str(finished_time)\n",
    "        chiper_id = hashlib.md5(plain_id.encode()).hexdigest()\n",
    "\n",
    "        model['model_uid'] = chiper_id\n",
    "\n",
    "        logger['model_name'].append(model_name)\n",
    "        logger['model_uid'].append(chiper_id)\n",
    "        logger['training_time'].append(elapsed_time)\n",
    "        logger['training_date'].append(str(start_time))\n",
    "        logger['performance'].append(performance)\n",
    "        logger['f1_score_avg'].append(performance['macro avg']['f1-score'])\n",
    "        logger['data_configurations'].append(data_configuration_name)\n",
    "\n",
    "    training_log = training_log_updater(logger, log_path)\n",
    "\n",
    "    return training_log, list_of_model"
   ]
  },
  {
   "cell_type": "code",
   "execution_count": 62,
   "metadata": {},
   "outputs": [],
   "source": [
    "x_train = joblib.load('../data/processed/x_train.pkl') # menggunakan data yg sudah di standarisasi\n",
    "y_train = joblib.load('../data/processed/y_train.pkl')\n",
    "\n",
    "x_test = joblib.load('../data/processed/x_test.pkl')\n",
    "y_test = joblib.load('../data/processed/y_test.pkl')\n",
    "\n",
    "x_valid = joblib.load('../data/processed/x_valid.pkl')\n",
    "y_valid = joblib.load('../data/processed/y_valid.pkl')"
   ]
  },
  {
   "cell_type": "code",
   "execution_count": 63,
   "metadata": {},
   "outputs": [
    {
     "name": "stderr",
     "output_type": "stream",
     "text": [
      "  0%|          | 0/5 [00:00<?, ?it/s]/home/tanaka/ml_project_final/venv_mlproject/lib/python3.8/site-packages/sklearn/linear_model/_logistic.py:444: ConvergenceWarning: lbfgs failed to converge (status=1):\n",
      "STOP: TOTAL NO. of ITERATIONS REACHED LIMIT.\n",
      "\n",
      "Increase the number of iterations (max_iter) or scale the data as shown in:\n",
      "    https://scikit-learn.org/stable/modules/preprocessing.html\n",
      "Please also refer to the documentation for alternative solver options:\n",
      "    https://scikit-learn.org/stable/modules/linear_model.html#logistic-regression\n",
      "  n_iter_i = _check_optimize_result(\n",
      "100%|██████████| 5/5 [00:05<00:00,  1.12s/it]\n"
     ]
    }
   ],
   "source": [
    "training_log, list_of_model_res = train_eval_model(\n",
    "    list_of_model['smote'],\n",
    "    'baseline_model',\n",
    "    x_train,\n",
    "    y_train,\n",
    "    'smote',\n",
    "    x_valid,\n",
    "    y_valid,\n",
    "    '../log/training_log.json'\n",
    ")"
   ]
  },
  {
   "cell_type": "code",
   "execution_count": 64,
   "metadata": {},
   "outputs": [],
   "source": [
    "def training_log_to_df(training_log):\n",
    "    training_res = pd.DataFrame()\n",
    "\n",
    "    for log in tqdm(training_log):\n",
    "        training_res = pd.concat([training_res, pd.DataFrame(log)])\n",
    "    \n",
    "    training_res.sort_values(['f1_score_avg', 'training_time'], ascending = [False, True], inplace = True)\n",
    "    training_res.reset_index(inplace = True, drop = True)\n",
    "    \n",
    "    return training_res"
   ]
  },
  {
   "cell_type": "code",
   "execution_count": 65,
   "metadata": {},
   "outputs": [
    {
     "name": "stderr",
     "output_type": "stream",
     "text": [
      "100%|██████████| 1/1 [00:00<00:00, 443.56it/s]\n"
     ]
    },
    {
     "data": {
      "text/html": [
       "<div>\n",
       "<style scoped>\n",
       "    .dataframe tbody tr th:only-of-type {\n",
       "        vertical-align: middle;\n",
       "    }\n",
       "\n",
       "    .dataframe tbody tr th {\n",
       "        vertical-align: top;\n",
       "    }\n",
       "\n",
       "    .dataframe thead th {\n",
       "        text-align: right;\n",
       "    }\n",
       "</style>\n",
       "<table border=\"1\" class=\"dataframe\">\n",
       "  <thead>\n",
       "    <tr style=\"text-align: right;\">\n",
       "      <th></th>\n",
       "      <th>model_name</th>\n",
       "      <th>model_uid</th>\n",
       "      <th>training_time</th>\n",
       "      <th>training_date</th>\n",
       "      <th>performance</th>\n",
       "      <th>f1_score_avg</th>\n",
       "      <th>data_configurations</th>\n",
       "    </tr>\n",
       "  </thead>\n",
       "  <tbody>\n",
       "    <tr>\n",
       "      <th>0</th>\n",
       "      <td>baseline_model-DecisionTreeClassifier</td>\n",
       "      <td>9c4f0e5e2a115068b88c351db8745c8a</td>\n",
       "      <td>0.143847</td>\n",
       "      <td>2022-11-28 21:19:40.002018</td>\n",
       "      <td>{'0': {'precision': 0.9384366140137708, 'recal...</td>\n",
       "      <td>0.930985</td>\n",
       "      <td>smote</td>\n",
       "    </tr>\n",
       "    <tr>\n",
       "      <th>1</th>\n",
       "      <td>baseline_model-KNeighborsClassifier</td>\n",
       "      <td>d2f41ab4e307ab417a4737a3f9d4c54d</td>\n",
       "      <td>0.054658</td>\n",
       "      <td>2022-11-28 21:19:42.923555</td>\n",
       "      <td>{'0': {'precision': 0.9604005461993628, 'recal...</td>\n",
       "      <td>0.908902</td>\n",
       "      <td>smote</td>\n",
       "    </tr>\n",
       "    <tr>\n",
       "      <th>2</th>\n",
       "      <td>baseline_model-XGBClassifier</td>\n",
       "      <td>79052b966eb142b9bf11bf553942c659</td>\n",
       "      <td>1.914925</td>\n",
       "      <td>2022-11-28 21:19:43.297160</td>\n",
       "      <td>{'0': {'precision': 0.953081876724931, 'recall...</td>\n",
       "      <td>0.901262</td>\n",
       "      <td>smote</td>\n",
       "    </tr>\n",
       "    <tr>\n",
       "      <th>3</th>\n",
       "      <td>baseline_model-RandomForestClassifier</td>\n",
       "      <td>6ed37f99da5a71d21a9c774151683521</td>\n",
       "      <td>2.669731</td>\n",
       "      <td>2022-11-28 21:19:40.161765</td>\n",
       "      <td>{'0': {'precision': 0.943046986236355, 'recall...</td>\n",
       "      <td>0.885924</td>\n",
       "      <td>smote</td>\n",
       "    </tr>\n",
       "    <tr>\n",
       "      <th>4</th>\n",
       "      <td>baseline_model-LogisticRegression</td>\n",
       "      <td>69433a97de8c0b1a69da31ca618e1c26</td>\n",
       "      <td>0.363537</td>\n",
       "      <td>2022-11-28 21:19:39.619357</td>\n",
       "      <td>{'0': {'precision': 0.5683908045977012, 'recal...</td>\n",
       "      <td>0.733739</td>\n",
       "      <td>smote</td>\n",
       "    </tr>\n",
       "  </tbody>\n",
       "</table>\n",
       "</div>"
      ],
      "text/plain": [
       "                              model_name                         model_uid  \\\n",
       "0  baseline_model-DecisionTreeClassifier  9c4f0e5e2a115068b88c351db8745c8a   \n",
       "1    baseline_model-KNeighborsClassifier  d2f41ab4e307ab417a4737a3f9d4c54d   \n",
       "2           baseline_model-XGBClassifier  79052b966eb142b9bf11bf553942c659   \n",
       "3  baseline_model-RandomForestClassifier  6ed37f99da5a71d21a9c774151683521   \n",
       "4      baseline_model-LogisticRegression  69433a97de8c0b1a69da31ca618e1c26   \n",
       "\n",
       "   training_time               training_date  \\\n",
       "0       0.143847  2022-11-28 21:19:40.002018   \n",
       "1       0.054658  2022-11-28 21:19:42.923555   \n",
       "2       1.914925  2022-11-28 21:19:43.297160   \n",
       "3       2.669731  2022-11-28 21:19:40.161765   \n",
       "4       0.363537  2022-11-28 21:19:39.619357   \n",
       "\n",
       "                                         performance  f1_score_avg  \\\n",
       "0  {'0': {'precision': 0.9384366140137708, 'recal...      0.930985   \n",
       "1  {'0': {'precision': 0.9604005461993628, 'recal...      0.908902   \n",
       "2  {'0': {'precision': 0.953081876724931, 'recall...      0.901262   \n",
       "3  {'0': {'precision': 0.943046986236355, 'recall...      0.885924   \n",
       "4  {'0': {'precision': 0.5683908045977012, 'recal...      0.733739   \n",
       "\n",
       "  data_configurations  \n",
       "0               smote  \n",
       "1               smote  \n",
       "2               smote  \n",
       "3               smote  \n",
       "4               smote  "
      ]
     },
     "execution_count": 65,
     "metadata": {},
     "output_type": "execute_result"
    }
   ],
   "source": [
    "training_res = training_log_to_df(training_log)\n",
    "training_res"
   ]
  },
  {
   "cell_type": "code",
   "execution_count": 66,
   "metadata": {},
   "outputs": [
    {
     "data": {
      "text/plain": [
       "model_name                         baseline_model-DecisionTreeClassifier\n",
       "model_uid                               9c4f0e5e2a115068b88c351db8745c8a\n",
       "training_time                                                   0.143847\n",
       "training_date                                 2022-11-28 21:19:40.002018\n",
       "performance            {'0': {'precision': 0.9384366140137708, 'recal...\n",
       "f1_score_avg                                                    0.930985\n",
       "data_configurations                                                smote\n",
       "Name: 0, dtype: object"
      ]
     },
     "execution_count": 66,
     "metadata": {},
     "output_type": "execute_result"
    }
   ],
   "source": [
    "training_res.loc[0]"
   ]
  },
  {
   "cell_type": "markdown",
   "metadata": {},
   "source": [
    "#### Training dg model terbaik"
   ]
  },
  {
   "cell_type": "code",
   "execution_count": 67,
   "metadata": {},
   "outputs": [
    {
     "data": {
      "text/html": [
       "<style>#sk-container-id-2 {color: black;background-color: white;}#sk-container-id-2 pre{padding: 0;}#sk-container-id-2 div.sk-toggleable {background-color: white;}#sk-container-id-2 label.sk-toggleable__label {cursor: pointer;display: block;width: 100%;margin-bottom: 0;padding: 0.3em;box-sizing: border-box;text-align: center;}#sk-container-id-2 label.sk-toggleable__label-arrow:before {content: \"▸\";float: left;margin-right: 0.25em;color: #696969;}#sk-container-id-2 label.sk-toggleable__label-arrow:hover:before {color: black;}#sk-container-id-2 div.sk-estimator:hover label.sk-toggleable__label-arrow:before {color: black;}#sk-container-id-2 div.sk-toggleable__content {max-height: 0;max-width: 0;overflow: hidden;text-align: left;background-color: #f0f8ff;}#sk-container-id-2 div.sk-toggleable__content pre {margin: 0.2em;color: black;border-radius: 0.25em;background-color: #f0f8ff;}#sk-container-id-2 input.sk-toggleable__control:checked~div.sk-toggleable__content {max-height: 200px;max-width: 100%;overflow: auto;}#sk-container-id-2 input.sk-toggleable__control:checked~label.sk-toggleable__label-arrow:before {content: \"▾\";}#sk-container-id-2 div.sk-estimator input.sk-toggleable__control:checked~label.sk-toggleable__label {background-color: #d4ebff;}#sk-container-id-2 div.sk-label input.sk-toggleable__control:checked~label.sk-toggleable__label {background-color: #d4ebff;}#sk-container-id-2 input.sk-hidden--visually {border: 0;clip: rect(1px 1px 1px 1px);clip: rect(1px, 1px, 1px, 1px);height: 1px;margin: -1px;overflow: hidden;padding: 0;position: absolute;width: 1px;}#sk-container-id-2 div.sk-estimator {font-family: monospace;background-color: #f0f8ff;border: 1px dotted black;border-radius: 0.25em;box-sizing: border-box;margin-bottom: 0.5em;}#sk-container-id-2 div.sk-estimator:hover {background-color: #d4ebff;}#sk-container-id-2 div.sk-parallel-item::after {content: \"\";width: 100%;border-bottom: 1px solid gray;flex-grow: 1;}#sk-container-id-2 div.sk-label:hover label.sk-toggleable__label {background-color: #d4ebff;}#sk-container-id-2 div.sk-serial::before {content: \"\";position: absolute;border-left: 1px solid gray;box-sizing: border-box;top: 0;bottom: 0;left: 50%;z-index: 0;}#sk-container-id-2 div.sk-serial {display: flex;flex-direction: column;align-items: center;background-color: white;padding-right: 0.2em;padding-left: 0.2em;position: relative;}#sk-container-id-2 div.sk-item {position: relative;z-index: 1;}#sk-container-id-2 div.sk-parallel {display: flex;align-items: stretch;justify-content: center;background-color: white;position: relative;}#sk-container-id-2 div.sk-item::before, #sk-container-id-2 div.sk-parallel-item::before {content: \"\";position: absolute;border-left: 1px solid gray;box-sizing: border-box;top: 0;bottom: 0;left: 50%;z-index: -1;}#sk-container-id-2 div.sk-parallel-item {display: flex;flex-direction: column;z-index: 1;position: relative;background-color: white;}#sk-container-id-2 div.sk-parallel-item:first-child::after {align-self: flex-end;width: 50%;}#sk-container-id-2 div.sk-parallel-item:last-child::after {align-self: flex-start;width: 50%;}#sk-container-id-2 div.sk-parallel-item:only-child::after {width: 0;}#sk-container-id-2 div.sk-dashed-wrapped {border: 1px dashed gray;margin: 0 0.4em 0.5em 0.4em;box-sizing: border-box;padding-bottom: 0.4em;background-color: white;}#sk-container-id-2 div.sk-label label {font-family: monospace;font-weight: bold;display: inline-block;line-height: 1.2em;}#sk-container-id-2 div.sk-label-container {text-align: center;}#sk-container-id-2 div.sk-container {/* jupyter's `normalize.less` sets `[hidden] { display: none; }` but bootstrap.min.css set `[hidden] { display: none !important; }` so we also need the `!important` here to be able to override the default hidden behavior on the sphinx rendered scikit-learn.org. See: https://github.com/scikit-learn/scikit-learn/issues/21755 */display: inline-block !important;position: relative;}#sk-container-id-2 div.sk-text-repr-fallback {display: none;}</style><div id=\"sk-container-id-2\" class=\"sk-top-container\"><div class=\"sk-text-repr-fallback\"><pre>DecisionTreeClassifier()</pre><b>In a Jupyter environment, please rerun this cell to show the HTML representation or trust the notebook. <br />On GitHub, the HTML representation is unable to render, please try loading this page with nbviewer.org.</b></div><div class=\"sk-container\" hidden><div class=\"sk-item\"><div class=\"sk-estimator sk-toggleable\"><input class=\"sk-toggleable__control sk-hidden--visually\" id=\"sk-estimator-id-2\" type=\"checkbox\" checked><label for=\"sk-estimator-id-2\" class=\"sk-toggleable__label sk-toggleable__label-arrow\">DecisionTreeClassifier</label><div class=\"sk-toggleable__content\"><pre>DecisionTreeClassifier()</pre></div></div></div></div></div>"
      ],
      "text/plain": [
       "DecisionTreeClassifier()"
      ]
     },
     "execution_count": 67,
     "metadata": {},
     "output_type": "execute_result"
    }
   ],
   "source": [
    "dtc = DecisionTreeClassifier()\n",
    "dtc.fit(x_train, y_train)"
   ]
  },
  {
   "cell_type": "code",
   "execution_count": 68,
   "metadata": {},
   "outputs": [
    {
     "data": {
      "text/html": [
       "<div>\n",
       "<style scoped>\n",
       "    .dataframe tbody tr th:only-of-type {\n",
       "        vertical-align: middle;\n",
       "    }\n",
       "\n",
       "    .dataframe tbody tr th {\n",
       "        vertical-align: top;\n",
       "    }\n",
       "\n",
       "    .dataframe thead th {\n",
       "        text-align: right;\n",
       "    }\n",
       "</style>\n",
       "<table border=\"1\" class=\"dataframe\">\n",
       "  <thead>\n",
       "    <tr style=\"text-align: right;\">\n",
       "      <th></th>\n",
       "      <th>Temperature</th>\n",
       "      <th>Humidity</th>\n",
       "      <th>TVOC</th>\n",
       "      <th>eCO2</th>\n",
       "      <th>Raw_H2</th>\n",
       "      <th>Raw_Ethanol</th>\n",
       "      <th>Pressure</th>\n",
       "      <th>PM1.0</th>\n",
       "    </tr>\n",
       "  </thead>\n",
       "  <tbody>\n",
       "    <tr>\n",
       "      <th>0</th>\n",
       "      <td>27.120000</td>\n",
       "      <td>47.370000</td>\n",
       "      <td>1228</td>\n",
       "      <td>405</td>\n",
       "      <td>12909</td>\n",
       "      <td>19428</td>\n",
       "      <td>938.728000</td>\n",
       "      <td>1.660000</td>\n",
       "    </tr>\n",
       "    <tr>\n",
       "      <th>1</th>\n",
       "      <td>15.890000</td>\n",
       "      <td>54.620000</td>\n",
       "      <td>0</td>\n",
       "      <td>400</td>\n",
       "      <td>13074</td>\n",
       "      <td>19971</td>\n",
       "      <td>939.747000</td>\n",
       "      <td>0.320000</td>\n",
       "    </tr>\n",
       "    <tr>\n",
       "      <th>2</th>\n",
       "      <td>-8.792000</td>\n",
       "      <td>51.420000</td>\n",
       "      <td>50</td>\n",
       "      <td>400</td>\n",
       "      <td>13232</td>\n",
       "      <td>20165</td>\n",
       "      <td>939.684000</td>\n",
       "      <td>2.180000</td>\n",
       "    </tr>\n",
       "    <tr>\n",
       "      <th>3</th>\n",
       "      <td>18.600000</td>\n",
       "      <td>54.980000</td>\n",
       "      <td>316</td>\n",
       "      <td>400</td>\n",
       "      <td>13107</td>\n",
       "      <td>19948</td>\n",
       "      <td>939.387000</td>\n",
       "      <td>0.360000</td>\n",
       "    </tr>\n",
       "    <tr>\n",
       "      <th>4</th>\n",
       "      <td>1.903000</td>\n",
       "      <td>48.940000</td>\n",
       "      <td>156</td>\n",
       "      <td>400</td>\n",
       "      <td>13214</td>\n",
       "      <td>20069</td>\n",
       "      <td>939.655000</td>\n",
       "      <td>1.610000</td>\n",
       "    </tr>\n",
       "    <tr>\n",
       "      <th>...</th>\n",
       "      <td>...</td>\n",
       "      <td>...</td>\n",
       "      <td>...</td>\n",
       "      <td>...</td>\n",
       "      <td>...</td>\n",
       "      <td>...</td>\n",
       "      <td>...</td>\n",
       "      <td>...</td>\n",
       "    </tr>\n",
       "    <tr>\n",
       "      <th>43007</th>\n",
       "      <td>18.126802</td>\n",
       "      <td>49.244925</td>\n",
       "      <td>11</td>\n",
       "      <td>400</td>\n",
       "      <td>13115</td>\n",
       "      <td>20014</td>\n",
       "      <td>939.661107</td>\n",
       "      <td>0.600640</td>\n",
       "    </tr>\n",
       "    <tr>\n",
       "      <th>43008</th>\n",
       "      <td>15.211347</td>\n",
       "      <td>51.899346</td>\n",
       "      <td>2</td>\n",
       "      <td>400</td>\n",
       "      <td>12996</td>\n",
       "      <td>19926</td>\n",
       "      <td>939.731163</td>\n",
       "      <td>0.288245</td>\n",
       "    </tr>\n",
       "    <tr>\n",
       "      <th>43009</th>\n",
       "      <td>26.569841</td>\n",
       "      <td>56.330484</td>\n",
       "      <td>0</td>\n",
       "      <td>400</td>\n",
       "      <td>13097</td>\n",
       "      <td>19998</td>\n",
       "      <td>939.720397</td>\n",
       "      <td>0.622540</td>\n",
       "    </tr>\n",
       "    <tr>\n",
       "      <th>43010</th>\n",
       "      <td>19.402662</td>\n",
       "      <td>52.310000</td>\n",
       "      <td>9</td>\n",
       "      <td>400</td>\n",
       "      <td>13216</td>\n",
       "      <td>20160</td>\n",
       "      <td>939.610000</td>\n",
       "      <td>1.170000</td>\n",
       "    </tr>\n",
       "    <tr>\n",
       "      <th>43011</th>\n",
       "      <td>15.070671</td>\n",
       "      <td>55.602875</td>\n",
       "      <td>26</td>\n",
       "      <td>400</td>\n",
       "      <td>13092</td>\n",
       "      <td>19984</td>\n",
       "      <td>939.680489</td>\n",
       "      <td>0.764153</td>\n",
       "    </tr>\n",
       "  </tbody>\n",
       "</table>\n",
       "<p>43012 rows × 8 columns</p>\n",
       "</div>"
      ],
      "text/plain": [
       "       Temperature   Humidity  TVOC  eCO2  Raw_H2  Raw_Ethanol    Pressure  \\\n",
       "0        27.120000  47.370000  1228   405   12909        19428  938.728000   \n",
       "1        15.890000  54.620000     0   400   13074        19971  939.747000   \n",
       "2        -8.792000  51.420000    50   400   13232        20165  939.684000   \n",
       "3        18.600000  54.980000   316   400   13107        19948  939.387000   \n",
       "4         1.903000  48.940000   156   400   13214        20069  939.655000   \n",
       "...            ...        ...   ...   ...     ...          ...         ...   \n",
       "43007    18.126802  49.244925    11   400   13115        20014  939.661107   \n",
       "43008    15.211347  51.899346     2   400   12996        19926  939.731163   \n",
       "43009    26.569841  56.330484     0   400   13097        19998  939.720397   \n",
       "43010    19.402662  52.310000     9   400   13216        20160  939.610000   \n",
       "43011    15.070671  55.602875    26   400   13092        19984  939.680489   \n",
       "\n",
       "          PM1.0  \n",
       "0      1.660000  \n",
       "1      0.320000  \n",
       "2      2.180000  \n",
       "3      0.360000  \n",
       "4      1.610000  \n",
       "...         ...  \n",
       "43007  0.600640  \n",
       "43008  0.288245  \n",
       "43009  0.622540  \n",
       "43010  1.170000  \n",
       "43011  0.764153  \n",
       "\n",
       "[43012 rows x 8 columns]"
      ]
     },
     "execution_count": 68,
     "metadata": {},
     "output_type": "execute_result"
    }
   ],
   "source": [
    "x_train"
   ]
  },
  {
   "cell_type": "code",
   "execution_count": 69,
   "metadata": {},
   "outputs": [
    {
     "data": {
      "text/plain": [
       "[Text(0.5330882352941176, 0.9545454545454546, 'PM1.0 <= 1.27\\ngini = 0.5\\nsamples = 43012\\nvalue = [21506, 21506]'),\n",
       " Text(0.3088235294117647, 0.8636363636363636, 'TVOC <= 182.5\\ngini = 0.26\\nsamples = 25263\\nvalue = [21384, 3879]'),\n",
       " Text(0.16176470588235295, 0.7727272727272727, 'Temperature <= 1.506\\ngini = 0.033\\nsamples = 21443\\nvalue = [21086, 357]'),\n",
       " Text(0.1323529411764706, 0.6818181818181818, 'gini = 0.0\\nsamples = 184\\nvalue = [0, 184]'),\n",
       " Text(0.19117647058823528, 0.6818181818181818, 'TVOC <= 147.5\\ngini = 0.016\\nsamples = 21259\\nvalue = [21086, 173]'),\n",
       " Text(0.11764705882352941, 0.5909090909090909, 'TVOC <= 130.5\\ngini = 0.003\\nsamples = 19356\\nvalue = [19331, 25]'),\n",
       " Text(0.058823529411764705, 0.5, 'TVOC <= 120.5\\ngini = 0.0\\nsamples = 18573\\nvalue = [18571, 2]'),\n",
       " Text(0.029411764705882353, 0.4090909090909091, 'gini = 0.0\\nsamples = 18222\\nvalue = [18222, 0]'),\n",
       " Text(0.08823529411764706, 0.4090909090909091, 'Raw_H2 <= 13201.0\\ngini = 0.011\\nsamples = 351\\nvalue = [349, 2]'),\n",
       " Text(0.058823529411764705, 0.3181818181818182, 'gini = 0.0\\nsamples = 349\\nvalue = [349, 0]'),\n",
       " Text(0.11764705882352941, 0.3181818181818182, 'gini = 0.0\\nsamples = 2\\nvalue = [0, 2]'),\n",
       " Text(0.17647058823529413, 0.5, 'Raw_Ethanol <= 20080.5\\ngini = 0.057\\nsamples = 783\\nvalue = [760, 23]'),\n",
       " Text(0.14705882352941177, 0.4090909090909091, 'gini = 0.0\\nsamples = 760\\nvalue = [760, 0]'),\n",
       " Text(0.20588235294117646, 0.4090909090909091, 'gini = 0.0\\nsamples = 23\\nvalue = [0, 23]'),\n",
       " Text(0.2647058823529412, 0.5909090909090909, 'Raw_Ethanol <= 20057.0\\ngini = 0.143\\nsamples = 1903\\nvalue = [1755, 148]'),\n",
       " Text(0.23529411764705882, 0.5, 'gini = 0.0\\nsamples = 1755\\nvalue = [1755, 0]'),\n",
       " Text(0.29411764705882354, 0.5, 'gini = 0.0\\nsamples = 148\\nvalue = [0, 148]'),\n",
       " Text(0.45588235294117646, 0.7727272727272727, 'Pressure <= 939.631\\ngini = 0.144\\nsamples = 3820\\nvalue = [298, 3522]'),\n",
       " Text(0.35294117647058826, 0.6818181818181818, 'Pressure <= 939.63\\ngini = 0.001\\nsamples = 3308\\nvalue = [1, 3307]'),\n",
       " Text(0.3235294117647059, 0.5909090909090909, 'gini = 0.0\\nsamples = 3294\\nvalue = [0, 3294]'),\n",
       " Text(0.38235294117647056, 0.5909090909090909, 'Raw_Ethanol <= 20003.5\\ngini = 0.133\\nsamples = 14\\nvalue = [1, 13]'),\n",
       " Text(0.35294117647058826, 0.5, 'gini = 0.0\\nsamples = 1\\nvalue = [1, 0]'),\n",
       " Text(0.4117647058823529, 0.5, 'gini = 0.0\\nsamples = 13\\nvalue = [0, 13]'),\n",
       " Text(0.5588235294117647, 0.6818181818181818, 'Humidity <= 50.777\\ngini = 0.487\\nsamples = 512\\nvalue = [297, 215]'),\n",
       " Text(0.5, 0.5909090909090909, 'Raw_Ethanol <= 20018.0\\ngini = 0.235\\nsamples = 339\\nvalue = [293, 46]'),\n",
       " Text(0.47058823529411764, 0.5, 'gini = 0.0\\nsamples = 293\\nvalue = [293, 0]'),\n",
       " Text(0.5294117647058824, 0.5, 'gini = 0.0\\nsamples = 46\\nvalue = [0, 46]'),\n",
       " Text(0.6176470588235294, 0.5909090909090909, 'PM1.0 <= 0.695\\ngini = 0.045\\nsamples = 173\\nvalue = [4, 169]'),\n",
       " Text(0.5882352941176471, 0.5, 'PM1.0 <= 0.665\\ngini = 0.36\\nsamples = 17\\nvalue = [4, 13]'),\n",
       " Text(0.5588235294117647, 0.4090909090909091, 'gini = 0.0\\nsamples = 13\\nvalue = [0, 13]'),\n",
       " Text(0.6176470588235294, 0.4090909090909091, 'gini = 0.0\\nsamples = 4\\nvalue = [4, 0]'),\n",
       " Text(0.6470588235294118, 0.5, 'gini = 0.0\\nsamples = 156\\nvalue = [0, 156]'),\n",
       " Text(0.7573529411764706, 0.8636363636363636, 'Humidity <= 45.575\\ngini = 0.014\\nsamples = 17749\\nvalue = [122, 17627]'),\n",
       " Text(0.7279411764705882, 0.7727272727272727, 'gini = 0.0\\nsamples = 40\\nvalue = [40, 0]'),\n",
       " Text(0.7867647058823529, 0.7727272727272727, 'PM1.0 <= 1.307\\ngini = 0.009\\nsamples = 17709\\nvalue = [82, 17627]'),\n",
       " Text(0.7058823529411765, 0.6818181818181818, 'TVOC <= 109.0\\ngini = 0.471\\nsamples = 163\\nvalue = [62, 101]'),\n",
       " Text(0.6764705882352942, 0.5909090909090909, 'gini = 0.0\\nsamples = 62\\nvalue = [62, 0]'),\n",
       " Text(0.7352941176470589, 0.5909090909090909, 'gini = 0.0\\nsamples = 101\\nvalue = [0, 101]'),\n",
       " Text(0.8676470588235294, 0.6818181818181818, 'Raw_H2 <= 13278.5\\ngini = 0.002\\nsamples = 17546\\nvalue = [20, 17526]'),\n",
       " Text(0.7941176470588235, 0.5909090909090909, 'PM1.0 <= 1.337\\ngini = 0.002\\nsamples = 17471\\nvalue = [15, 17456]'),\n",
       " Text(0.7352941176470589, 0.5, 'TVOC <= 97.5\\ngini = 0.058\\nsamples = 134\\nvalue = [4, 130]'),\n",
       " Text(0.7058823529411765, 0.4090909090909091, 'gini = 0.0\\nsamples = 4\\nvalue = [4, 0]'),\n",
       " Text(0.7647058823529411, 0.4090909090909091, 'gini = 0.0\\nsamples = 130\\nvalue = [0, 130]'),\n",
       " Text(0.8529411764705882, 0.5, 'TVOC <= 205.0\\ngini = 0.001\\nsamples = 17337\\nvalue = [11, 17326]'),\n",
       " Text(0.8235294117647058, 0.4090909090909091, 'Raw_Ethanol <= 19986.5\\ngini = 0.007\\nsamples = 3238\\nvalue = [11, 3227]'),\n",
       " Text(0.7941176470588235, 0.3181818181818182, 'gini = 0.0\\nsamples = 7\\nvalue = [7, 0]'),\n",
       " Text(0.8529411764705882, 0.3181818181818182, 'Pressure <= 939.6\\ngini = 0.002\\nsamples = 3231\\nvalue = [4, 3227]'),\n",
       " Text(0.8235294117647058, 0.22727272727272727, 'gini = 0.0\\nsamples = 3\\nvalue = [3, 0]'),\n",
       " Text(0.8823529411764706, 0.22727272727272727, 'PM1.0 <= 1.42\\ngini = 0.001\\nsamples = 3228\\nvalue = [1, 3227]'),\n",
       " Text(0.8529411764705882, 0.13636363636363635, 'Raw_H2 <= 13204.0\\ngini = 0.045\\nsamples = 43\\nvalue = [1, 42]'),\n",
       " Text(0.8235294117647058, 0.045454545454545456, 'gini = 0.0\\nsamples = 42\\nvalue = [0, 42]'),\n",
       " Text(0.8823529411764706, 0.045454545454545456, 'gini = 0.0\\nsamples = 1\\nvalue = [1, 0]'),\n",
       " Text(0.9117647058823529, 0.13636363636363635, 'gini = 0.0\\nsamples = 3185\\nvalue = [0, 3185]'),\n",
       " Text(0.8823529411764706, 0.4090909090909091, 'gini = 0.0\\nsamples = 14099\\nvalue = [0, 14099]'),\n",
       " Text(0.9411764705882353, 0.5909090909090909, 'Raw_Ethanol <= 20135.0\\ngini = 0.124\\nsamples = 75\\nvalue = [5, 70]'),\n",
       " Text(0.9117647058823529, 0.5, 'gini = 0.0\\nsamples = 5\\nvalue = [5, 0]'),\n",
       " Text(0.9705882352941176, 0.5, 'gini = 0.0\\nsamples = 70\\nvalue = [0, 70]')]"
      ]
     },
     "execution_count": 69,
     "metadata": {},
     "output_type": "execute_result"
    },
    {
     "data": {
      "image/png": "[encoded data removed]",
      "text/plain": [
       "<Figure size 640x480 with 1 Axes>"
      ]
     },
     "metadata": {},
     "output_type": "display_data"
    }
   ],
   "source": [
    "tree.plot_tree(dtc, filled=True, feature_names=dtc.feature_names_in_)"
   ]
  },
  {
   "cell_type": "markdown",
   "metadata": {},
   "source": [
    "#### Evaluation"
   ]
  },
  {
   "cell_type": "code",
   "execution_count": 70,
   "metadata": {},
   "outputs": [
    {
     "name": "stdout",
     "output_type": "stream",
     "text": [
      "              precision    recall  f1-score   support\n",
      "\n",
      "           0       0.94      0.86      0.90      2681\n",
      "           1       0.95      0.98      0.96      6713\n",
      "\n",
      "    accuracy                           0.94      9394\n",
      "   macro avg       0.94      0.92      0.93      9394\n",
      "weighted avg       0.94      0.94      0.94      9394\n",
      "\n"
     ]
    }
   ],
   "source": [
    "y_pred = dtc.predict(x_valid)\n",
    "print(classification_report(y_valid, y_pred))"
   ]
  },
  {
   "cell_type": "code",
   "execution_count": 71,
   "metadata": {},
   "outputs": [
    {
     "name": "stdout",
     "output_type": "stream",
     "text": [
      "              precision    recall  f1-score   support\n",
      "\n",
      "           0       0.94      0.85      0.89      2681\n",
      "           1       0.94      0.98      0.96      6714\n",
      "\n",
      "    accuracy                           0.94      9395\n",
      "   macro avg       0.94      0.92      0.93      9395\n",
      "weighted avg       0.94      0.94      0.94      9395\n",
      "\n"
     ]
    }
   ],
   "source": [
    "y_pred = dtc.predict(x_test)\n",
    "print(classification_report(y_test, y_pred))"
   ]
  },
  {
   "cell_type": "code",
   "execution_count": 72,
   "metadata": {},
   "outputs": [
    {
     "data": {
      "text/plain": [
       "<sklearn.metrics._plot.confusion_matrix.ConfusionMatrixDisplay at 0x7f642d639700>"
      ]
     },
     "execution_count": 72,
     "metadata": {},
     "output_type": "execute_result"
    },
    {
     "data": {
      "image/png": "[encoded data removed]",
      "text/plain": [
       "<Figure size 640x480 with 2 Axes>"
      ]
     },
     "metadata": {},
     "output_type": "display_data"
    }
   ],
   "source": [
    "ConfusionMatrixDisplay.from_predictions(y_test, y_pred)"
   ]
  },
  {
   "cell_type": "markdown",
   "metadata": {},
   "source": [
    "> dari hasil training model, terbaik adalah dg DecisionTree. model ini akan digunakan untuk production"
   ]
  },
  {
   "cell_type": "code",
   "execution_count": 73,
   "metadata": {},
   "outputs": [
    {
     "data": {
      "text/plain": [
       "['../models/production_model.pkl']"
      ]
     },
     "execution_count": 73,
     "metadata": {},
     "output_type": "execute_result"
    }
   ],
   "source": [
    "joblib.dump(dtc, '../models/production_model.pkl')"
   ]
  }
 ],
 "metadata": {
  "kernelspec": {
   "display_name": "Python 3.8.10 ('venv_mlproject': venv)",
   "language": "python",
   "name": "python3"
  },
  "language_info": {
   "codemirror_mode": {
    "name": "ipython",
    "version": 3
   },
   "file_extension": ".py",
   "mimetype": "text/x-python",
   "name": "python",
   "nbconvert_exporter": "python",
   "pygments_lexer": "ipython3",
   "version": "3.8.10"
  },
  "orig_nbformat": 4,
  "vscode": {
   "interpreter": {
    "hash": "6df2f55f3efb84c3ea0b0b0980bf4105a27fcb756340ab0235795f7ee117f064"
   }
  }
 },
 "nbformat": 4,
 "nbformat_minor": 2
}
