{
 "cells": [
  {
   "cell_type": "markdown",
   "metadata": {},
   "source": [
    "### Import Library"
   ]
  },
  {
   "cell_type": "code",
   "execution_count": 7,
   "metadata": {},
   "outputs": [],
   "source": [
    "import yaml\n",
    "import joblib\n",
    "import pandas as pd\n"
   ]
  },
  {
   "cell_type": "markdown",
   "metadata": {},
   "source": [
    "### Load Config"
   ]
  },
  {
   "cell_type": "code",
   "execution_count": 5,
   "metadata": {},
   "outputs": [
    {
     "data": {
      "text/plain": [
       "{'data_raw': '../data/raw/smoke.csv',\n",
       " 'data_final': '../data/processed/ori_new.pkl',\n",
       " 'path_train': ['../data/processed/x_train.pkl',\n",
       "  '../data/processed/y_train.pkl'],\n",
       " 'path_valid': ['../data/processed/x_valid.pkl',\n",
       "  '../data/processed/y_valid.pkl'],\n",
       " 'path_test': ['../data/processed/x_test.pkl', '../data/processed/y_test.pkl'],\n",
       " 'path_train_feat': ['data/processed/x_train_feat.pkl',\n",
       "  'data/processed/y_train_feat.pkl'],\n",
       " 'path_valid_feat': ['data/processed/x_valid_feat.pkl',\n",
       "  'data/processed/y_valid_feat.pkl'],\n",
       " 'path_test_feat': ['data/processed/x_test_feat.pkl',\n",
       "  'data/processed/y_test_feat.pkl'],\n",
       " 'final_model_path': 'models/production_model.pkl',\n",
       " 'training_log_path': 'log/training_log.json',\n",
       " 'new_cols': ['UTC',\n",
       "  'Temperature',\n",
       "  'Humidity',\n",
       "  'TVOC',\n",
       "  'eCO2',\n",
       "  'Raw_H2',\n",
       "  'Raw_Ethanol',\n",
       "  'Pressure',\n",
       "  'PM1.0',\n",
       "  'PM2.5',\n",
       "  'NC0.5',\n",
       "  'NC1.0',\n",
       "  'NC2.5',\n",
       "  'CNT',\n",
       "  'Fire_Alarm'],\n",
       " 'datetime_columns': ['UTC'],\n",
       " 'float_columns': ['Temperature',\n",
       "  'Humidity',\n",
       "  'Pressure',\n",
       "  'PM1.0',\n",
       "  'PM2.5',\n",
       "  'NC0.5',\n",
       "  'NC1.0',\n",
       "  'NC2.5'],\n",
       " 'int_columns': ['TVOC', 'eCO2', 'Raw_H2', 'Raw_Ethanol', 'CNT', 'Fire_Alarm'],\n",
       " 'target': 'Fire_Alarm',\n",
       " 'predictors': ['Temperature',\n",
       "  'Humidity',\n",
       "  'TVOC',\n",
       "  'eCO2',\n",
       "  'Raw_H2',\n",
       "  'Raw_Ethanol',\n",
       "  'Pressure',\n",
       "  'PM1.0'],\n",
       " 'test_size': 0.3,\n",
       " 'valid_size': 0.5}"
      ]
     },
     "execution_count": 5,
     "metadata": {},
     "output_type": "execute_result"
    }
   ],
   "source": [
    "with open('../config/config.yaml', 'r') as file:\n",
    "    config = yaml.safe_load(file)\n",
    "config"
   ]
  },
  {
   "cell_type": "markdown",
   "metadata": {},
   "source": [
    "### Load Data"
   ]
  },
  {
   "cell_type": "code",
   "execution_count": 6,
   "metadata": {},
   "outputs": [],
   "source": [
    "x_train = joblib.load(config['path_train'][0])\n",
    "y_train = joblib.load(config['path_train'][1])\n",
    "x_test = joblib.load(config['path_test'][0])\n",
    "y_test = joblib.load(config['path_test'][1])\n",
    "x_valid = joblib.load(config['path_valid'][0])\n",
    "y_valid = joblib.load(config['path_valid'][1])\n"
   ]
  },
  {
   "cell_type": "code",
   "execution_count": 8,
   "metadata": {},
   "outputs": [],
   "source": [
    "train = pd.concat([x_train, y_train], axis = 1)\n",
    "test = pd.concat([x_test, y_test], axis = 1)\n",
    "valid = pd.concat([x_valid, y_valid], axis = 1)"
   ]
  },
  {
   "cell_type": "code",
   "execution_count": 9,
   "metadata": {},
   "outputs": [
    {
     "name": "stdout",
     "output_type": "stream",
     "text": [
      "(43841, 9)\n",
      "(9395, 9)\n",
      "(9394, 9)\n"
     ]
    }
   ],
   "source": [
    "print(train.shape)\n",
    "print(test.shape)\n",
    "print(valid.shape)"
   ]
  },
  {
   "cell_type": "markdown",
   "metadata": {},
   "source": [
    "### Remove Outlier"
   ]
  },
  {
   "cell_type": "code",
   "execution_count": 15,
   "metadata": {},
   "outputs": [
    {
     "name": "stdout",
     "output_type": "stream",
     "text": [
      "Temperature iqr = 14.37\n",
      "Humidity iqr = 5.710000000000001\n",
      "TVOC iqr = 1057.0\n",
      "eCO2 iqr = 38.0\n",
      "Raw_H2 iqr = 278.0\n",
      "Raw_Ethanol iqr = 643.0\n",
      "Pressure iqr = 0.7189999999999372\n",
      "PM1.0 iqr = 0.7999999999999998\n"
     ]
    }
   ],
   "source": [
    "train_remoutl = pd.DataFrame()\n",
    "for col_name in train.columns[:-1]:\n",
    "    q1 = train[col_name].quantile(0.25)\n",
    "    q3 = train[col_name].quantile(0.75)\n",
    "    iqr = q3-q1\n",
    "    bt_atas = q3 + (1.5*iqr)\n",
    "    bt_bawah = q1 - (1.5*iqr)\n",
    "    train[]\n",
    "\n",
    "\n",
    "    print(f'{col_name} iqr = {iqr}')\n"
   ]
  },
  {
   "cell_type": "code",
   "execution_count": 16,
   "metadata": {},
   "outputs": [
    {
     "data": {
      "text/html": [
       "<div>\n",
       "<style scoped>\n",
       "    .dataframe tbody tr th:only-of-type {\n",
       "        vertical-align: middle;\n",
       "    }\n",
       "\n",
       "    .dataframe tbody tr th {\n",
       "        vertical-align: top;\n",
       "    }\n",
       "\n",
       "    .dataframe thead th {\n",
       "        text-align: right;\n",
       "    }\n",
       "</style>\n",
       "<table border=\"1\" class=\"dataframe\">\n",
       "  <thead>\n",
       "    <tr style=\"text-align: right;\">\n",
       "      <th></th>\n",
       "    </tr>\n",
       "  </thead>\n",
       "  <tbody>\n",
       "  </tbody>\n",
       "</table>\n",
       "</div>"
      ],
      "text/plain": [
       "Empty DataFrame\n",
       "Columns: []\n",
       "Index: []"
      ]
     },
     "execution_count": 16,
     "metadata": {},
     "output_type": "execute_result"
    }
   ],
   "source": [
    "train_remoutl"
   ]
  },
  {
   "cell_type": "code",
   "execution_count": null,
   "metadata": {},
   "outputs": [],
   "source": []
  }
 ],
 "metadata": {
  "kernelspec": {
   "display_name": "Python 3.8.10 ('venv_mlproject': venv)",
   "language": "python",
   "name": "python3"
  },
  "language_info": {
   "codemirror_mode": {
    "name": "ipython",
    "version": 3
   },
   "file_extension": ".py",
   "mimetype": "text/x-python",
   "name": "python",
   "nbconvert_exporter": "python",
   "pygments_lexer": "ipython3",
   "version": "3.8.10"
  },
  "orig_nbformat": 4,
  "vscode": {
   "interpreter": {
    "hash": "6df2f55f3efb84c3ea0b0b0980bf4105a27fcb756340ab0235795f7ee117f064"
   }
  }
 },
 "nbformat": 4,
 "nbformat_minor": 2
}
